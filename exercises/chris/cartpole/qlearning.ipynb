{
 "cells": [
  {
   "cell_type": "code",
   "execution_count": 270,
   "metadata": {},
   "outputs": [],
   "source": [
    "import gym\n",
    "import numpy as np\n",
    "\n",
    "env = gym.make('CartPole-v0')\n",
    "observation = env.reset()\n",
    "def run(env, policy, rewarder=Rewarder(), render = False):\n",
    "    reward = 0\n",
    "    observation = env.reset()\n",
    "    done = False\n",
    "    count = 0\n",
    "    observations = [observation]\n",
    "    while(done == False):        \n",
    "        action = policy.step(observation, reward)            \n",
    "        observation, raw_reward, done, info = env.step(action)\n",
    "        reward = rewarder.get_reward(observation, raw_reward, done, info, count)\n",
    "        if(render):\n",
    "            env.render()\n",
    "        count += 1\n",
    "        observations += [observation]\n",
    "#         print(observation, reward, done, info)\n",
    "    action = policy.step(observation, reward)  # step called to process the final reward\n",
    "    return count, observations\n"
   ]
  },
  {
   "cell_type": "code",
   "execution_count": 251,
   "metadata": {},
   "outputs": [],
   "source": [
    "class Policy(object):\n",
    "    def step(self, observation, reward):\n",
    "        return 0"
   ]
  },
  {
   "cell_type": "code",
   "execution_count": 249,
   "metadata": {},
   "outputs": [],
   "source": [
    "class Rewarder(object):\n",
    "    def get_reward(self, observation, raw_reward, done, info, count):\n",
    "        return raw_reward"
   ]
  },
  {
   "cell_type": "code",
   "execution_count": 252,
   "metadata": {},
   "outputs": [],
   "source": [
    "policy = Policy()\n",
    "obs = np.vstack([np.vstack(run(env, policy)[1]) for i in range(100)] )"
   ]
  },
  {
   "cell_type": "code",
   "execution_count": 253,
   "metadata": {},
   "outputs": [
    {
     "data": {
      "text/html": [
       "<div>\n",
       "<style scoped>\n",
       "    .dataframe tbody tr th:only-of-type {\n",
       "        vertical-align: middle;\n",
       "    }\n",
       "\n",
       "    .dataframe tbody tr th {\n",
       "        vertical-align: top;\n",
       "    }\n",
       "\n",
       "    .dataframe thead th {\n",
       "        text-align: right;\n",
       "    }\n",
       "</style>\n",
       "<table border=\"1\" class=\"dataframe\">\n",
       "  <thead>\n",
       "    <tr style=\"text-align: right;\">\n",
       "      <th></th>\n",
       "      <th>0</th>\n",
       "      <th>1</th>\n",
       "      <th>2</th>\n",
       "      <th>3</th>\n",
       "    </tr>\n",
       "  </thead>\n",
       "  <tbody>\n",
       "    <tr>\n",
       "      <th>count</th>\n",
       "      <td>1028.000000</td>\n",
       "      <td>1028.000000</td>\n",
       "      <td>1028.000000</td>\n",
       "      <td>1028.000000</td>\n",
       "    </tr>\n",
       "    <tr>\n",
       "      <th>mean</th>\n",
       "      <td>-0.049253</td>\n",
       "      <td>-0.910347</td>\n",
       "      <td>0.077599</td>\n",
       "      <td>1.406762</td>\n",
       "    </tr>\n",
       "    <tr>\n",
       "      <th>std</th>\n",
       "      <td>0.060814</td>\n",
       "      <td>0.587901</td>\n",
       "      <td>0.081231</td>\n",
       "      <td>0.921379</td>\n",
       "    </tr>\n",
       "    <tr>\n",
       "      <th>min</th>\n",
       "      <td>-0.221702</td>\n",
       "      <td>-2.156585</td>\n",
       "      <td>-0.049323</td>\n",
       "      <td>-0.048268</td>\n",
       "    </tr>\n",
       "    <tr>\n",
       "      <th>25%</th>\n",
       "      <td>-0.088829</td>\n",
       "      <td>-1.393988</td>\n",
       "      <td>0.013292</td>\n",
       "      <td>0.596620</td>\n",
       "    </tr>\n",
       "    <tr>\n",
       "      <th>50%</th>\n",
       "      <td>-0.041635</td>\n",
       "      <td>-0.936842</td>\n",
       "      <td>0.055567</td>\n",
       "      <td>1.418577</td>\n",
       "    </tr>\n",
       "    <tr>\n",
       "      <th>75%</th>\n",
       "      <td>-0.001722</td>\n",
       "      <td>-0.394724</td>\n",
       "      <td>0.135145</td>\n",
       "      <td>2.164119</td>\n",
       "    </tr>\n",
       "    <tr>\n",
       "      <th>max</th>\n",
       "      <td>0.050084</td>\n",
       "      <td>0.049283</td>\n",
       "      <td>0.269082</td>\n",
       "      <td>3.330385</td>\n",
       "    </tr>\n",
       "  </tbody>\n",
       "</table>\n",
       "</div>"
      ],
      "text/plain": [
       "                 0            1            2            3\n",
       "count  1028.000000  1028.000000  1028.000000  1028.000000\n",
       "mean     -0.049253    -0.910347     0.077599     1.406762\n",
       "std       0.060814     0.587901     0.081231     0.921379\n",
       "min      -0.221702    -2.156585    -0.049323    -0.048268\n",
       "25%      -0.088829    -1.393988     0.013292     0.596620\n",
       "50%      -0.041635    -0.936842     0.055567     1.418577\n",
       "75%      -0.001722    -0.394724     0.135145     2.164119\n",
       "max       0.050084     0.049283     0.269082     3.330385"
      ]
     },
     "execution_count": 253,
     "metadata": {},
     "output_type": "execute_result"
    }
   ],
   "source": [
    "import pandas as pd\n",
    "pd.DataFrame(obs).describe()"
   ]
  },
  {
   "cell_type": "code",
   "execution_count": 284,
   "metadata": {},
   "outputs": [],
   "source": [
    "class QLearningPolicy(Policy):\n",
    "    def __init__(self, gamma = 0.9, lr = 0.3, epsilon = 0.2, box_size = 1, verbose = False):\n",
    "        self.q = {}\n",
    "        self.last_state_action=None\n",
    "        self.gamma = gamma\n",
    "        self.lr = lr\n",
    "        self.epsilon = epsilon\n",
    "        self.verbose = verbose\n",
    "        self.box_size = box_size \n",
    "    \n",
    "    def step(self, observation, reward):        \n",
    "        weights = self.box_size * np.array([0.062775 ,0.593712,0.082334,0.928363])  # std for each dimension\n",
    "        normalized = observation / weights\n",
    "        floored = np.floor(normalized)\n",
    "        s = str(floored)\n",
    "        \n",
    "        self.update(reward, s)\n",
    "        \n",
    "        a = 0 if self.evaluate(s+str(0)) > self.evaluate(s+str(1)) else 1\n",
    "        if np.random.rand() < self.epsilon:\n",
    "            a = np.random.choice([0,1])\n",
    "        \n",
    "        self.last_state_action = s+str(a)\n",
    "        return a\n",
    "    \n",
    "    def evaluate(self, key):        \n",
    "        if key not in self.q:\n",
    "            self.q[key] = 0\n",
    "        return self.q[key]\n",
    "    \n",
    "    def update(self, reward, s):\n",
    "        lr = self.lr\n",
    "        if self.last_state_action is None:\n",
    "            return\n",
    "        old = self.q[self.last_state_action]\n",
    "        new = reward + self.gamma * max([self.evaluate(s+str(a)) for a in [0,1]])        \n",
    "        self.q[self.last_state_action] = lr * new + (1-lr) * old\n",
    "        if self.verbose:\n",
    "            print(reward)\n",
    "\n"
   ]
  },
  {
   "cell_type": "code",
   "execution_count": 295,
   "metadata": {},
   "outputs": [],
   "source": [
    "class RewardAtEndRewarder(Rewarder):\n",
    "    def __init__(self, verbose = False):\n",
    "        self.verbose = verbose\n",
    "        \n",
    "    def get_reward(self, observation, raw_reward, done, info, count):\n",
    "        if count < 200 and done:\n",
    "            if self.verbose:\n",
    "                print('Fallen over -> punish (-100)')\n",
    "            return -100        \n",
    "        return 0\n"
   ]
  },
  {
   "cell_type": "code",
   "execution_count": 286,
   "metadata": {},
   "outputs": [
    {
     "name": "stderr",
     "output_type": "stream",
     "text": [
      "100% (10000 of 10000) |##################| Elapsed Time: 0:02:27 Time:  0:02:27\n"
     ]
    },
    {
     "data": {
      "text/plain": [
       "[<matplotlib.lines.Line2D at 0x7f8bc02d8e10>]"
      ]
     },
     "execution_count": 286,
     "metadata": {},
     "output_type": "execute_result"
    },
    {
     "data": {
      "image/png": "[encoded data removed]",
      "text/plain": [
       "<Figure size 432x288 with 1 Axes>"
      ]
     },
     "metadata": {
      "needs_background": "light"
     },
     "output_type": "display_data"
    }
   ],
   "source": [
    "from progressbar import progressbar\n",
    "p = QLearningPolicy(lr=1, epsilon=0, box_size=0.5)\n",
    "r = RewardAtEndRewarder()\n",
    "results = [run(env, p, rewarder=r)[0] for i in progressbar(range(10000))]\n",
    "from matplotlib import pyplot as plt\n",
    "%matplotlib inline\n",
    "plt.plot(results)"
   ]
  },
  {
   "cell_type": "code",
   "execution_count": 296,
   "metadata": {},
   "outputs": [
    {
     "data": {
      "text/plain": [
       "(155,\n",
       " [array([ 0.0456706 ,  0.01400351, -0.00746109,  0.00186667]),\n",
       "  array([ 0.04595067,  0.20923167, -0.00742376, -0.29316096]),\n",
       "  array([ 0.0501353 ,  0.40445867, -0.01328698, -0.58817596]),\n",
       "  array([ 0.05822448,  0.20952529, -0.0250505 , -0.29970795]),\n",
       "  array([ 0.06241498,  0.40499518, -0.03104466, -0.60018488]),\n",
       "  array([ 0.07051489,  0.21032098, -0.04304836, -0.31743995]),\n",
       "  array([ 0.07472131,  0.01583777, -0.04939715, -0.0386377 ]),\n",
       "  array([ 0.07503806, -0.1785423 , -0.05016991,  0.23805989]),\n",
       "  array([ 0.07146721,  0.01725915, -0.04540871, -0.0700165 ]),\n",
       "  array([ 0.0718124 , -0.17718337, -0.04680904,  0.20800106]),\n",
       "  array([ 0.06826873,  0.01857558, -0.04264902, -0.09907256]),\n",
       "  array([ 0.06864024, -0.17591001, -0.04463047,  0.17985553]),\n",
       "  array([ 0.06512204,  0.01982124, -0.04103336, -0.126566  ]),\n",
       "  array([ 0.06551847,  0.21550628, -0.04356468, -0.43190689]),\n",
       "  array([ 0.06982859,  0.02102738, -0.05220282, -0.15326929]),\n",
       "  array([ 0.07024914, -0.17330974, -0.0552682 ,  0.12249863]),\n",
       "  array([ 0.06678294,  0.02255868, -0.05281823, -0.18709598]),\n",
       "  array([ 0.06723412, -0.17176936, -0.05656015,  0.08846824]),\n",
       "  array([ 0.06379873,  0.02411578, -0.05479079, -0.22150944]),\n",
       "  array([ 0.06428105, -0.17018195, -0.05922098,  0.05339936]),\n",
       "  array([ 0.06087741,  0.02573695, -0.05815299, -0.25736459]),\n",
       "  array([ 0.06139215, -0.16850862, -0.06330028,  0.0164239 ]),\n",
       "  array([ 0.05802197, -0.36266834, -0.0629718 ,  0.28848233]),\n",
       "  array([ 0.05076861, -0.55683842, -0.05720216,  0.56065868]),\n",
       "  array([ 0.03963184, -0.36096227, -0.04598898,  0.25051675]),\n",
       "  array([ 0.03241259, -0.55539835, -0.04097865,  0.52834651]),\n",
       "  array([ 0.02130463, -0.35972455, -0.03041172,  0.22303786]),\n",
       "  array([ 0.01411014, -0.16418142, -0.02595096, -0.07908087]),\n",
       "  array([ 0.01082651, -0.35892193, -0.02753258,  0.20530281]),\n",
       "  array([ 0.00364807, -0.16341729, -0.02342652, -0.09593655]),\n",
       "  array([ 0.00037972, -0.35819579, -0.02534525,  0.18926425]),\n",
       "  array([-0.00678419, -0.16272058, -0.02155997, -0.1113051 ]),\n",
       "  array([-0.0100386 , -0.35752706, -0.02378607,  0.17449857]),\n",
       "  array([-0.01718915, -0.1620729 , -0.0202961 , -0.12559217]),\n",
       "  array([-0.0204306 , -0.3568983 , -0.02280794,  0.16061909]),\n",
       "  array([-0.02756857, -0.16145737, -0.01959556, -0.139171  ]),\n",
       "  array([-0.03079772, -0.35629327, -0.02237898,  0.147266  ]),\n",
       "  array([-0.03792358, -0.16085811, -0.01943366, -0.1523922 ]),\n",
       "  array([-0.04114074, -0.35569648, -0.0224815 ,  0.13409704]),\n",
       "  array([-0.04825467, -0.16025984, -0.01979956, -0.16559285]),\n",
       "  array([-0.05145987, -0.35509285, -0.02311142,  0.1207787 ]),\n",
       "  array([-0.05856173, -0.15964753, -0.02069584, -0.17910514]),\n",
       "  array([-0.06175468, -0.3544673 , -0.02427795,  0.10697779]),\n",
       "  array([-0.06884402, -0.15900601, -0.02213839, -0.19326477]),\n",
       "  array([-0.07202414, -0.35380439, -0.02600369,  0.09235304]),\n",
       "  array([-0.07910023, -0.15831956, -0.02415663, -0.20841929]),\n",
       "  array([-0.08226662, -0.35308791, -0.02832501,  0.07654665]),\n",
       "  array([-0.08932838, -0.15757159, -0.02679408, -0.22493663]),\n",
       "  array([-0.09247981, -0.35230056, -0.03129281,  0.05917546]),\n",
       "  array([-0.09952583, -0.15674423, -0.0301093 , -0.24321401]),\n",
       "  array([-0.10266071,  0.03879457, -0.03497358, -0.54524006]),\n",
       "  array([-0.10188482, -0.15581895, -0.04587838, -0.26377843]),\n",
       "  array([-0.1050012 , -0.35025705, -0.05115395,  0.01408831]),\n",
       "  array([-0.11200634, -0.54460949, -0.05087219,  0.29020292]),\n",
       "  array([-0.12289853, -0.73897052, -0.04506813,  0.56641733]),\n",
       "  array([-0.13767794, -0.54324627, -0.03373978,  0.25988352]),\n",
       "  array([-0.14854286, -0.73787073, -0.02854211,  0.54173644]),\n",
       "  array([-0.16330028, -0.54235949, -0.01770738,  0.24019878]),\n",
       "  array([-0.17414747, -0.34698912, -0.01290341, -0.05801653]),\n",
       "  array([-0.18108725, -0.15168456, -0.01406374, -0.35474248]),\n",
       "  array([-0.18412094, -0.34660374, -0.02115859, -0.06652721]),\n",
       "  array([-0.19105302, -0.15118493, -0.02248913, -0.36580998]),\n",
       "  array([-0.19407672,  0.04424927, -0.02980533, -0.66549841]),\n",
       "  array([-0.19319173, -0.1504457 , -0.0431153 , -0.38234712]),\n",
       "  array([-0.19620064, -0.3449298 , -0.05076224, -0.10356406]),\n",
       "  array([-0.20309924, -0.53928891, -0.05283352,  0.17268138]),\n",
       "  array([-0.21388502, -0.34345216, -0.0493799 , -0.13618969]),\n",
       "  array([-0.22075406, -0.53783332, -0.05210369,  0.14051486]),\n",
       "  array([-0.23151073, -0.34200534, -0.04929339, -0.16814002]),\n",
       "  array([-0.23835083, -0.53638833, -0.05265619,  0.1085939 ]),\n",
       "  array([-0.2490786 , -0.3405529 , -0.05048431, -0.20022586]),\n",
       "  array([-0.25588966, -0.53491782, -0.05448883,  0.07611399]),\n",
       "  array([-0.26658802, -0.72921801, -0.05296655,  0.35111992]),\n",
       "  array([-0.28117238, -0.53338439, -0.04594415,  0.04221656]),\n",
       "  array([-0.29184006, -0.72781843, -0.04509982,  0.32005703]),\n",
       "  array([-0.30639643, -0.53208418, -0.03869868,  0.01349933]),\n",
       "  array([-0.31703812, -0.33642922, -0.03842869, -0.29113794]),\n",
       "  array([-0.3237667 , -0.14078099, -0.04425145, -0.59568887]),\n",
       "  array([-0.32658232, -0.33525661, -0.05616523, -0.31726669]),\n",
       "  array([-0.33328745, -0.52953548, -0.06251056, -0.04281181]),\n",
       "  array([-0.34387816, -0.72370794, -0.0633668 ,  0.22951186]),\n",
       "  array([-0.35835232, -0.5277404 , -0.05877656, -0.08246686]),\n",
       "  array([-0.36890713, -0.7219727 , -0.0604259 ,  0.19110811]),\n",
       "  array([-0.38334658, -0.91618049, -0.05660374,  0.46413372]),\n",
       "  array([-0.40167019, -1.11045878, -0.04732106,  0.73845183]),\n",
       "  array([-0.42387937, -0.91471641, -0.03255203,  0.43125974]),\n",
       "  array([-0.4421737 , -0.719149  , -0.02392683,  0.12849544]),\n",
       "  array([-0.45655668, -0.52369261, -0.02135692, -0.17163905]),\n",
       "  array([-0.46703053, -0.3282716 , -0.0247897 , -0.47098217]),\n",
       "  array([-0.47359596, -0.13280842, -0.03420935, -0.77137428]),\n",
       "  array([-0.47625213, -0.32744334, -0.04963683, -0.48964831]),\n",
       "  array([-0.482801  , -0.52183118, -0.0594298 , -0.21301291]),\n",
       "  array([-0.49323762, -0.71605533, -0.06369006,  0.06034689]),\n",
       "  array([-0.50755873, -0.52008075, -0.06248312, -0.25173118]),\n",
       "  array([-0.51796034, -0.32412479, -0.06751774, -0.5634496 ]),\n",
       "  array([-0.52444284, -0.51823763, -0.07878674, -0.2927789 ]),\n",
       "  array([-0.53480759, -0.32208592, -0.08464231, -0.6092331 ]),\n",
       "  array([-0.54124931, -0.51592901, -0.09682698, -0.34436455]),\n",
       "  array([-0.55156789, -0.70954975, -0.10371427, -0.0837165 ]),\n",
       "  array([-0.56575888, -0.90304389, -0.1053886 ,  0.17452774]),\n",
       "  array([-0.58381976, -1.09651206, -0.10189804,  0.43219296]),\n",
       "  array([-0.60575   , -1.29005474, -0.09325418,  0.69109488]),\n",
       "  array([-0.6315511 , -1.09377106, -0.07943229,  0.37057163]),\n",
       "  array([-0.65342652, -0.89761572, -0.07202085,  0.05393782]),\n",
       "  array([-0.67137883, -0.70153894, -0.0709421 , -0.26057072]),\n",
       "  array([-0.68540961, -0.89558025, -0.07615351,  0.00891964]),\n",
       "  array([-0.70332122, -0.69945343, -0.07597512, -0.30678544]),\n",
       "  array([-0.71731028, -0.89341518, -0.08211083, -0.0389973 ]),\n",
       "  array([-0.73517859, -1.08726953, -0.08289077,  0.22669106]),\n",
       "  array([-0.75692398, -0.89106681, -0.07835695, -0.09094453]),\n",
       "  array([-0.77474532, -1.0849833 , -0.08017584,  0.17602432]),\n",
       "  array([-0.79644498, -1.27887175, -0.07665536,  0.44237629]),\n",
       "  array([-0.82202242, -1.08275353, -0.06780783,  0.12654822]),\n",
       "  array([-0.84367749, -0.886729  , -0.06527687, -0.18673309]),\n",
       "  array([-0.86141207, -1.08085922, -0.06901153,  0.08466429]),\n",
       "  array([-0.88302925, -1.27492754, -0.06731824,  0.35480056]),\n",
       "  array([-0.9085278 , -1.07891622, -0.06022223,  0.04167292]),\n",
       "  array([-0.93010613, -0.88298472, -0.05938877, -0.2693862 ]),\n",
       "  array([-0.94776582, -0.68706775, -0.0647765 , -0.58019358]),\n",
       "  array([-0.96150718, -0.49110074, -0.07638037, -0.89255857]),\n",
       "  array([-0.97132919, -0.6851082 , -0.09423154, -0.62482986]),\n",
       "  array([-0.98503135, -0.87879708, -0.10672814, -0.36324857]),\n",
       "  array([-1.0026073 , -1.07225307, -0.11399311, -0.10603428]),\n",
       "  array([-1.02405236, -1.26557256, -0.11611379,  0.14862149]),\n",
       "  array([-1.04936381, -1.45885687, -0.11314136,  0.4025349 ]),\n",
       "  array([-1.07854095, -1.65220753, -0.10509067,  0.65751393]),\n",
       "  array([-1.1115851 , -1.84572184, -0.09194039,  0.91534417]),\n",
       "  array([-1.14849953, -1.64948483, -0.0736335 ,  0.59523946]),\n",
       "  array([-1.18148923, -1.45341376, -0.06172871,  0.28030111]),\n",
       "  array([-1.2105575 , -1.64760333, -0.05612269,  0.55289396]),\n",
       "  array([-1.24350957, -1.45174001, -0.04506481,  0.24307014]),\n",
       "  array([-1.27254437, -1.2560043 , -0.04020341, -0.06347991]),\n",
       "  array([-1.29766446, -1.06032968, -0.04147301, -0.36857129]),\n",
       "  array([-1.31887105, -1.25483856, -0.04884443, -0.08924842]),\n",
       "  array([-1.34396782, -1.05905175, -0.0506294 , -0.39693293]),\n",
       "  array([-1.36514886, -0.86324941, -0.05856806, -0.70513877]),\n",
       "  array([-1.38241385, -1.05751302, -0.07267084, -0.43145216]),\n",
       "  array([-1.40356411, -1.25153478, -0.08129988, -0.16253409]),\n",
       "  array([-1.4285948 , -1.44540444, -0.08455056,  0.10343403]),\n",
       "  array([-1.45750289, -1.63921932, -0.08248188,  0.36828956]),\n",
       "  array([-1.49028728, -1.83307834, -0.07511609,  0.6338673 ]),\n",
       "  array([-1.52694884, -1.63699338, -0.06243874,  0.3185059 ]),\n",
       "  array([-1.55968871, -1.44104029, -0.05606863,  0.00680398]),\n",
       "  array([-1.58850952, -1.63531518, -0.05593255,  0.28128284]),\n",
       "  array([-1.62121582, -1.82959654, -0.05030689,  0.55581355]),\n",
       "  array([-1.65780775, -1.63380571, -0.03919062,  0.24771487]),\n",
       "  array([-1.69048387, -1.43814661, -0.03423632, -0.05706752]),\n",
       "  array([-1.7192468 , -1.24255092, -0.03537767, -0.36035264]),\n",
       "  array([-1.74409782, -1.04694441, -0.04258472, -0.66397768]),\n",
       "  array([-1.7650367 , -0.85125673, -0.05586428, -0.96975921]),\n",
       "  array([-1.78206184, -0.65543117, -0.07525946, -1.27945487]),\n",
       "  array([-1.79517046, -0.45943512, -0.10084856, -1.59472216]),\n",
       "  array([-1.80435917, -0.26327192, -0.132743  , -1.91707117]),\n",
       "  array([-1.8096246 , -0.456739  , -0.17108443, -1.6683355 ]),\n",
       "  array([-1.81875938, -0.64950842, -0.20445114, -1.43345662]),\n",
       "  array([-1.83174955, -0.45253648, -0.23312027, -1.78245165])])"
      ]
     },
     "execution_count": 296,
     "metadata": {},
     "output_type": "execute_result"
    }
   ],
   "source": [
    "# p.verbose = True\n",
    "r.verbose = True\n",
    "run(env, p, rewarder=r, render=True)"
   ]
  },
  {
   "cell_type": "code",
   "execution_count": null,
   "metadata": {},
   "outputs": [],
   "source": [
    "p.verbose = False\n",
    "r.verbose = False"
   ]
  },
  {
   "cell_type": "code",
   "execution_count": 224,
   "metadata": {},
   "outputs": [
    {
     "data": {
      "text/plain": [
       "[<matplotlib.lines.Line2D at 0x7f8bc0f6ac88>]"
      ]
     },
     "execution_count": 224,
     "metadata": {},
     "output_type": "execute_result"
    },
    {
     "data": {
      "image/png": "[encoded data removed]",
      "text/plain": [
       "<Figure size 432x288 with 1 Axes>"
      ]
     },
     "metadata": {
      "needs_background": "light"
     },
     "output_type": "display_data"
    }
   ],
   "source": [
    "from matplotlib import pyplot as plt\n",
    "%matplotlib inline\n",
    "plt.plot(results)"
   ]
  }
 ],
 "metadata": {
  "kernelspec": {
   "display_name": "Python 3",
   "language": "python",
   "name": "python3"
  },
  "language_info": {
   "codemirror_mode": {
    "name": "ipython",
    "version": 3
   },
   "file_extension": ".py",
   "mimetype": "text/x-python",
   "name": "python",
   "nbconvert_exporter": "python",
   "pygments_lexer": "ipython3",
   "version": "3.7.1"
  }
 },
 "nbformat": 4,
 "nbformat_minor": 2
}
