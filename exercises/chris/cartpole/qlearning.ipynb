{
 "cells": [
  {
   "cell_type": "code",
   "execution_count": 33,
   "metadata": {},
   "outputs": [],
   "source": [
    "import gym\n",
    "import numpy as np\n",
    "\n",
    "env = gym.make('CartPole-v0')\n",
    "observation = env.reset()\n",
    "def run(env, policy, render = False):\n",
    "    reward = 0\n",
    "    observation = env.reset()\n",
    "    done = False\n",
    "    count = 0\n",
    "    observations = [observation]\n",
    "    while(done == False):        \n",
    "        action = policy.step(observation, reward)            \n",
    "        observation, reward, done, info = env.step(action)\n",
    "        if(render):\n",
    "            env.render()\n",
    "        count += 1\n",
    "        observations += [observation]\n",
    "    return count, observations\n"
   ]
  },
  {
   "cell_type": "code",
   "execution_count": 7,
   "metadata": {},
   "outputs": [],
   "source": [
    "class Policy(object):\n",
    "    def step(self, observation, reward):\n",
    "        return 0"
   ]
  },
  {
   "cell_type": "code",
   "execution_count": 42,
   "metadata": {},
   "outputs": [],
   "source": [
    "policy = Policy()\n",
    "obs = np.vstack([np.vstack(run(env, policy)[1]) for i in range(100)] )"
   ]
  },
  {
   "cell_type": "code",
   "execution_count": 43,
   "metadata": {},
   "outputs": [
    {
     "data": {
      "text/html": [
       "<div>\n",
       "<style scoped>\n",
       "    .dataframe tbody tr th:only-of-type {\n",
       "        vertical-align: middle;\n",
       "    }\n",
       "\n",
       "    .dataframe tbody tr th {\n",
       "        vertical-align: top;\n",
       "    }\n",
       "\n",
       "    .dataframe thead th {\n",
       "        text-align: right;\n",
       "    }\n",
       "</style>\n",
       "<table border=\"1\" class=\"dataframe\">\n",
       "  <thead>\n",
       "    <tr style=\"text-align: right;\">\n",
       "      <th></th>\n",
       "      <th>0</th>\n",
       "      <th>1</th>\n",
       "      <th>2</th>\n",
       "      <th>3</th>\n",
       "    </tr>\n",
       "  </thead>\n",
       "  <tbody>\n",
       "    <tr>\n",
       "      <th>count</th>\n",
       "      <td>1040.000000</td>\n",
       "      <td>1040.000000</td>\n",
       "      <td>1040.000000</td>\n",
       "      <td>1040.000000</td>\n",
       "    </tr>\n",
       "    <tr>\n",
       "      <th>mean</th>\n",
       "      <td>-0.053451</td>\n",
       "      <td>-0.926731</td>\n",
       "      <td>0.074749</td>\n",
       "      <td>1.414646</td>\n",
       "    </tr>\n",
       "    <tr>\n",
       "      <th>std</th>\n",
       "      <td>0.062775</td>\n",
       "      <td>0.593712</td>\n",
       "      <td>0.082334</td>\n",
       "      <td>0.928363</td>\n",
       "    </tr>\n",
       "    <tr>\n",
       "      <th>min</th>\n",
       "      <td>-0.246153</td>\n",
       "      <td>-2.163356</td>\n",
       "      <td>-0.050513</td>\n",
       "      <td>-0.048128</td>\n",
       "    </tr>\n",
       "    <tr>\n",
       "      <th>25%</th>\n",
       "      <td>-0.092839</td>\n",
       "      <td>-1.406699</td>\n",
       "      <td>0.008911</td>\n",
       "      <td>0.590899</td>\n",
       "    </tr>\n",
       "    <tr>\n",
       "      <th>50%</th>\n",
       "      <td>-0.043839</td>\n",
       "      <td>-0.950113</td>\n",
       "      <td>0.051926</td>\n",
       "      <td>1.415282</td>\n",
       "    </tr>\n",
       "    <tr>\n",
       "      <th>75%</th>\n",
       "      <td>-0.004112</td>\n",
       "      <td>-0.404916</td>\n",
       "      <td>0.131809</td>\n",
       "      <td>2.166169</td>\n",
       "    </tr>\n",
       "    <tr>\n",
       "      <th>max</th>\n",
       "      <td>0.049854</td>\n",
       "      <td>0.049982</td>\n",
       "      <td>0.264013</td>\n",
       "      <td>3.293350</td>\n",
       "    </tr>\n",
       "  </tbody>\n",
       "</table>\n",
       "</div>"
      ],
      "text/plain": [
       "                 0            1            2            3\n",
       "count  1040.000000  1040.000000  1040.000000  1040.000000\n",
       "mean     -0.053451    -0.926731     0.074749     1.414646\n",
       "std       0.062775     0.593712     0.082334     0.928363\n",
       "min      -0.246153    -2.163356    -0.050513    -0.048128\n",
       "25%      -0.092839    -1.406699     0.008911     0.590899\n",
       "50%      -0.043839    -0.950113     0.051926     1.415282\n",
       "75%      -0.004112    -0.404916     0.131809     2.166169\n",
       "max       0.049854     0.049982     0.264013     3.293350"
      ]
     },
     "execution_count": 43,
     "metadata": {},
     "output_type": "execute_result"
    }
   ],
   "source": [
    "import pandas as pd\n",
    "pd.DataFrame(obs).describe()"
   ]
  },
  {
   "cell_type": "code",
   "execution_count": 54,
   "metadata": {},
   "outputs": [
    {
     "name": "stdout",
     "output_type": "stream",
     "text": [
      "[-1. -1. -1. -1.]\n",
      "[-1. -1. -1.  0.]\n",
      "[-1. -1. -1.  0.]\n",
      "[-1. -2. -1.  0.]\n",
      "[-1. -2.  0.  1.]\n",
      "[-1. -2.  0.  1.]\n",
      "[-2. -3.  0.  1.]\n",
      "[-2. -3.  1.  2.]\n",
      "[-3. -3.  1.  2.]\n",
      "[-3. -4.  2.  2.]\n"
     ]
    },
    {
     "data": {
      "text/plain": [
       "(10,\n",
       " [array([-0.01414351, -0.04662079, -0.02724291, -0.03781417]),\n",
       "  array([-0.01507593, -0.2413417 , -0.02799919,  0.24615039]),\n",
       "  array([-0.01990276, -0.4360528 , -0.02307618,  0.52987188]),\n",
       "  array([-0.02862382, -0.63084266, -0.01247874,  0.81519507]),\n",
       "  array([-0.04124067, -0.82579153,  0.00382516,  1.10392696]),\n",
       "  array([-0.0577565 , -1.02096358,  0.0259037 ,  1.39780749]),\n",
       "  array([-0.07817578, -1.2163979 ,  0.05385985,  1.69847545]),\n",
       "  array([-0.10250373, -1.41209777,  0.08782936,  2.00742673]),\n",
       "  array([-0.13074569, -1.6080177 ,  0.12797789,  2.32596251]),\n",
       "  array([-0.16290604, -1.80404778,  0.17449714,  2.6551258 ]),\n",
       "  array([-0.198987  , -1.99999556,  0.22759966,  2.99562617])])"
      ]
     },
     "execution_count": 54,
     "metadata": {},
     "output_type": "execute_result"
    }
   ],
   "source": [
    "class Policy(object):\n",
    "    q = {}\n",
    "    def step(self, observation, reward):\n",
    "        weights = [0.062775 ,0.593712,0.082334,0.928363]  # std for each dimension\n",
    "        normalized = observation / weights\n",
    "        floored = np.floor(normalized)\n",
    "        s = str(floored)\n",
    "        \n",
    "        \n",
    "        \n",
    "            \n",
    "        \n",
    "        print( s)\n",
    "        return 0\n",
    "\n",
    "run(env, Policy())"
   ]
  }
 ],
 "metadata": {
  "kernelspec": {
   "display_name": "Python 3",
   "language": "python",
   "name": "python3"
  },
  "language_info": {
   "codemirror_mode": {
    "name": "ipython",
    "version": 3
   },
   "file_extension": ".py",
   "mimetype": "text/x-python",
   "name": "python",
   "nbconvert_exporter": "python",
   "pygments_lexer": "ipython3",
   "version": "3.7.1"
  }
 },
 "nbformat": 4,
 "nbformat_minor": 2
}
