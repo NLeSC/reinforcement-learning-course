{
 "cells": [
  {
   "cell_type": "code",
   "execution_count": 2,
   "metadata": {},
   "outputs": [],
   "source": [
    "import numpy as np\n",
    "import gym\n",
    "from sklearn.linear_model import SGDRegressor\n",
    "from sklearn.preprocessing import StandardScaler\n",
    "from sklearn.pipeline import FeatureUnion\n",
    "from gym import wrappers\n",
    "from datetime import datetime\n",
    "\n",
    "\n",
    "env = gym.make('MountainCar-v0')"
   ]
  },
  {
   "cell_type": "code",
   "execution_count": null,
   "metadata": {},
   "outputs": [],
   "source": [
    "# copied from lazyprogrammer\n",
    "def plot_cost_to_go(env, estimator, num_tiles=20):\n",
    "  x = np.linspace(env.observation_space.low[0], env.observation_space.high[0], num=num_tiles)\n",
    "  y = np.linspace(env.observation_space.low[1], env.observation_space.high[1], num=num_tiles)\n",
    "  X, Y = np.meshgrid(x, y)\n",
    "  # both X and Y will be of shape (num_tiles, num_tiles)\n",
    "  Z = np.apply_along_axis(lambda _: -np.max(estimator.predict(_)), 2, np.dstack([X, Y]))\n",
    "  # Z will also be of shape (num_tiles, num_tiles)\n",
    "\n",
    "  fig = plt.figure(figsize=(10, 5))\n",
    "  ax = fig.add_subplot(111, projection='3d')\n",
    "  surf = ax.plot_surface(X, Y, Z,\n",
    "    rstride=1, cstride=1, cmap=matplotlib.cm.coolwarm, vmin=-1.0, vmax=1.0)\n",
    "  ax.set_xlabel('Position')\n",
    "  ax.set_ylabel('Velocity')\n",
    "  ax.set_zlabel('Cost-To-Go == -V(s)')\n",
    "  ax.set_title(\"Cost-To-Go Function\")\n",
    "  fig.colorbar(surf)\n",
    "  plt.show()\n",
    "\n",
    "\n",
    "def plot_running_avg(totalrewards):\n",
    "  N = len(totalrewards)\n",
    "  running_avg = np.empty(N)\n",
    "  for t in range(N):\n",
    "    running_avg[t] = totalrewards[max(0, t-100):(t+1)].mean()\n",
    "  plt.plot(running_avg)\n",
    "  plt.title(\"Running Average\")\n",
    "  plt.show()\n",
    "\n"
   ]
  },
  {
   "cell_type": "code",
   "execution_count": null,
   "metadata": {},
   "outputs": [],
   "source": [
    "#copied from lazyprogrammer\n",
    "class FeatureTransformer:\n",
    "  def __init__(self, env, n_components=500):\n",
    "    observation_examples = np.array([env.observation_space.sample() for x in range(10000)])\n",
    "    scaler = StandardScaler()\n",
    "    scaler.fit(observation_examples)\n",
    "\n",
    "    # Used to converte a state to a featurizes represenation.\n",
    "    # We use RBF kernels with different variances to cover different parts of the space\n",
    "    featurizer = FeatureUnion([\n",
    "            (\"rbf1\", RBFSampler(gamma=5.0, n_components=n_components)),\n",
    "            (\"rbf2\", RBFSampler(gamma=2.0, n_components=n_components)),\n",
    "            (\"rbf3\", RBFSampler(gamma=1.0, n_components=n_components)),\n",
    "            (\"rbf4\", RBFSampler(gamma=0.5, n_components=n_components))\n",
    "            ])\n",
    "    example_features = featurizer.fit_transform(scaler.transform(observation_examples))\n",
    "\n",
    "    self.dimensions = example_features.shape[1]\n",
    "    self.scaler = scaler\n",
    "    self.featurizer = featurizer\n",
    "\n",
    "  def transform(self, observations):\n",
    "    # print \"observations:\", observations\n",
    "    scaled = self.scaler.transform(observations)\n",
    "    # assert(len(scaled.shape) == 2)\n",
    "    return self.featurizer.transform(scaled)\n"
   ]
  },
  {
   "cell_type": "code",
   "execution_count": null,
   "metadata": {},
   "outputs": [],
   "source": [
    "# Holds one SGDRegressor for each action\n",
    "class Model:\n",
    "  def __init__(self, env, feature_transformer, learning_rate):\n",
    "    pass\n",
    "\n",
    "  def predict(self, s):\n",
    "    pass\n",
    "    return result\n",
    "\n",
    "  def update(self, s, a, G):\n",
    "    pass\n",
    "\n",
    "  def sample_action(self, s, eps):\n",
    "    # eps = 0\n",
    "    # Technically, we don't need to do epsilon-greedy\n",
    "    # because SGDRegressor predicts 0 for all states\n",
    "    # until they are updated. This works as the\n",
    "    # \"Optimistic Initial Values\" method, since all\n",
    "    # the rewards for Mountain Car are -1.\n",
    "    if np.random.random() < eps:\n",
    "      return self.env.action_space.sample()\n",
    "    else:\n",
    "      return np.argmax(self.predict(s))"
   ]
  },
  {
   "cell_type": "code",
   "execution_count": null,
   "metadata": {},
   "outputs": [],
   "source": [
    "# returns a list of states_and_rewards, and the total reward\n",
    "def play_one(model, eps, gamma, n=5):\n",
    "    # Insert code here\n",
    "\n",
    "    # after code plot some stuff:\n",
    "    plt.plot(totalrewards)\n",
    "    plt.title(\"Rewards\")\n",
    "    plt.show()\n",
    "\n",
    "    plot_running_avg(totalrewards)\n",
    "\n",
    "    # plot the optimal state-value function\n",
    "    plot_cost_to_go(env, model)"
   ]
  }
 ],
 "metadata": {
  "kernelspec": {
   "display_name": "Python 3",
   "language": "python",
   "name": "python3"
  },
  "language_info": {
   "codemirror_mode": {
    "name": "ipython",
    "version": 3
   },
   "file_extension": ".py",
   "mimetype": "text/x-python",
   "name": "python",
   "nbconvert_exporter": "python",
   "pygments_lexer": "ipython3",
   "version": "3.7.3"
  }
 },
 "nbformat": 4,
 "nbformat_minor": 2
}
