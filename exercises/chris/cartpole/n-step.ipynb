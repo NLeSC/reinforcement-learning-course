{
 "cells": [
  {
   "cell_type": "code",
   "execution_count": 10,
   "metadata": {},
   "outputs": [],
   "source": [
    "import numpy as np\n",
    "import gym\n",
    "from sklearn.linear_model import SGDRegressor\n",
    "from sklearn.preprocessing import StandardScaler\n",
    "from sklearn.pipeline import FeatureUnion\n",
    "from gym import wrappers\n",
    "from datetime import datetime\n",
    "\n",
    "\n",
    "env = gym.make('MountainCar-v0')"
   ]
  },
  {
   "cell_type": "code",
   "execution_count": 11,
   "metadata": {},
   "outputs": [],
   "source": [
    "from mpl_toolkits.mplot3d import Axes3D\n",
    "from matplotlib import pyplot as plt\n",
    "import matplotlib\n",
    "%matplotlib inline"
   ]
  },
  {
   "cell_type": "code",
   "execution_count": 12,
   "metadata": {},
   "outputs": [],
   "source": [
    "# copied from lazyprogrammer\n",
    "def plot_cost_to_go(env, estimator, num_tiles=20):\n",
    "  x = np.linspace(env.observation_space.low[0], env.observation_space.high[0], num=num_tiles)\n",
    "  y = np.linspace(env.observation_space.low[1], env.observation_space.high[1], num=num_tiles)\n",
    "  X, Y = np.meshgrid(x, y)\n",
    "  # both X and Y will be of shape (num_tiles, num_tiles)\n",
    "  Z = np.apply_along_axis(lambda _: -np.max(estimator.predict(_)), 2, np.dstack([X, Y]))\n",
    "  # Z will also be of shape (num_tiles, num_tiles)\n",
    "\n",
    "  fig = plt.figure(figsize=(10, 5))\n",
    "  ax = fig.add_subplot(111, projection='3d')\n",
    "  surf = ax.plot_surface(X, Y, Z,\n",
    "    rstride=1, cstride=1, cmap=matplotlib.cm.coolwarm, vmin=-1.0, vmax=1.0)\n",
    "  ax.set_xlabel('Position')\n",
    "  ax.set_ylabel('Velocity')\n",
    "  ax.set_zlabel('Cost-To-Go == -V(s)')\n",
    "  ax.set_title(\"Cost-To-Go Function\")\n",
    "  fig.colorbar(surf)\n",
    "  plt.show()\n",
    "\n",
    "\n",
    "def plot_running_avg(totalrewards):\n",
    "  N = len(totalrewards)\n",
    "  running_avg = np.empty(N)\n",
    "  for t in range(N):\n",
    "    running_avg[t] = totalrewards[max(0, t-100):(t+1)].mean()\n",
    "  plt.plot(running_avg)\n",
    "  plt.title(\"Running Average\")\n",
    "  plt.show()\n",
    "\n"
   ]
  },
  {
   "cell_type": "code",
   "execution_count": 13,
   "metadata": {},
   "outputs": [],
   "source": [
    "#copied from lazyprogrammer\n",
    "from sklearn.kernel_approximation import RBFSampler\n",
    "class FeatureTransformer:\n",
    "  def __init__(self, env, n_components=500):\n",
    "    observation_examples = np.array([env.observation_space.sample() for x in range(10000)])\n",
    "    scaler = StandardScaler()\n",
    "    scaler.fit(observation_examples)\n",
    "\n",
    "    # Used to converte a state to a featurizes represenation.\n",
    "    # We use RBF kernels with different variances to cover different parts of the space\n",
    "    featurizer = FeatureUnion([\n",
    "            (\"rbf1\", RBFSampler(gamma=5.0, n_components=n_components)),\n",
    "            (\"rbf2\", RBFSampler(gamma=2.0, n_components=n_components)),\n",
    "            (\"rbf3\", RBFSampler(gamma=1.0, n_components=n_components)),\n",
    "            (\"rbf4\", RBFSampler(gamma=0.5, n_components=n_components))\n",
    "            ])\n",
    "    example_features = featurizer.fit_transform(scaler.transform(observation_examples))\n",
    "\n",
    "    self.dimensions = example_features.shape[1]\n",
    "    self.scaler = scaler\n",
    "    self.featurizer = featurizer\n",
    "\n",
    "  def transform(self, observation):\n",
    "    observations = [observation]\n",
    "#     print(\"observations:\", observations, observations.shape)\n",
    "    scaled = self.scaler.transform(observations)\n",
    "    # assert(len(scaled.shape) == 2)\n",
    "    return self.featurizer.transform(scaled)\n",
    "\n",
    "feature_transformer = FeatureTransformer(env)"
   ]
  },
  {
   "cell_type": "code",
   "execution_count": 14,
   "metadata": {},
   "outputs": [
    {
     "data": {
      "text/plain": [
       "(1, 2)"
      ]
     },
     "execution_count": 14,
     "metadata": {},
     "output_type": "execute_result"
    }
   ],
   "source": [
    "np.array([env.observation_space.sample()]).shape\n",
    "# feature_transformer.transform(np.array([env.observation_space.sample()]))"
   ]
  },
  {
   "cell_type": "code",
   "execution_count": 15,
   "metadata": {},
   "outputs": [
    {
     "data": {
      "text/plain": [
       "array([[-0.06121792,  0.03710958,  0.04757469, ...,  0.03115429,\n",
       "        -0.02934563,  0.01533406]])"
      ]
     },
     "execution_count": 15,
     "metadata": {},
     "output_type": "execute_result"
    }
   ],
   "source": [
    "feature_transformer.transform(env.observation_space.sample())"
   ]
  },
  {
   "cell_type": "code",
   "execution_count": 16,
   "metadata": {},
   "outputs": [],
   "source": [
    "# Holds one SGDRegressor for each action\n",
    "class Model:\n",
    "  def __init__(self, env, feature_transformer, learning_rate):\n",
    "    self.last_action = 0\n",
    "    self.env = env\n",
    "    self.feature_transformer = feature_transformer\n",
    "    self.learning_rate = learning_rate\n",
    "    self.regressors = [SGDRegressor(learning_rate=learning_rate) for _ in range(3)]\n",
    "#     observation_examples = np.array([env.observation_space.sample() for x in range(10000)])\n",
    "#     transformed_examples = [feature_transformer.transform(o) for o in observation_examples]\n",
    "    for regressor in self.regressors:\n",
    "        s = feature_transformer.transform(env.reset())\n",
    "        regressor.partial_fit(s, [0])\n",
    "\n",
    "  def estimate_state_value(self, state):\n",
    "    return np.max(self.predict(state))    \n",
    "    \n",
    "  def predict(self, state):\n",
    "    transformed_state = self.feature_transformer.transform(state)\n",
    "    return [r.predict(transformed_state) for r in self.regressors]\n",
    "\n",
    "  def update(self, state, a, G):\n",
    "    transformed_state = self.feature_transformer.transform(state)\n",
    "    self.regressors[a].partial_fit(transformed_state, [G])\n",
    "\n",
    "  def sample_action(self, s, eps):\n",
    "    # eps = 0\n",
    "    # Technically, we don't need to do epsilon-greedy\n",
    "    # because SGDRegressor predicts 0 for all states\n",
    "    # until they are updated. This works as the\n",
    "    # \"Optimistic Initial Values\" method, since all\n",
    "    # the rewards for Mountain Car are -1.\n",
    "    if np.random.random() < eps:\n",
    "        if np.random.random() < 0.8:\n",
    "            action = self.last_action\n",
    "        else:\n",
    "            action = self.env.action_space.sample()\n",
    "    else:\n",
    "        action = np.argmax(self.predict(s))\n",
    "    self.last_action = action\n",
    "    return action\n",
    "\n",
    "lr = 'invscaling'  #0.001\n",
    "model = Model(env, feature_transformer, lr)"
   ]
  },
  {
   "cell_type": "code",
   "execution_count": 17,
   "metadata": {},
   "outputs": [],
   "source": [
    "# returns a list of states_and_rewards, and the total reward\n",
    "def play_all(model, eps, gamma, n=5, n_games=1, render=False):\n",
    "    # Insert code here\n",
    "    total_rewards = []\n",
    "    \n",
    "    for i in range(n_games):\n",
    "        if i%50 == 0:\n",
    "            render = True\n",
    "        total_reward = play_one(eps, gamma, env, model, n, render=render)    \n",
    "        \n",
    "        total_rewards += [total_reward]\n",
    "        if i%50 == 0:\n",
    "            print('i',i,'total_reward',np.max(total_rewards))\n",
    "            render = False\n",
    "        \n",
    "    # after code plot some stuff:\n",
    "    plt.plot(total_rewards)\n",
    "    plt.title(\"Rewards\")\n",
    "    plt.show()\n",
    "\n",
    "    plot_running_avg(np.array(total_rewards))\n",
    "\n",
    "    # plot the optimal state-value function\n",
    "    plot_cost_to_go(env, model)\n",
    "\n",
    "def play_one(eps, gamma, env, model, n, render=False):\n",
    "    state = env.reset()\n",
    "    history = []  #state, reward, is_done, info\n",
    "    is_done = False\n",
    "    \n",
    "    total_reward = 0\n",
    "    while not is_done:        \n",
    "        action = model.sample_action(state, eps)\n",
    "#         print(action)\n",
    "        history += [env.step(action)]\n",
    "        state, reward, is_done, _info = history[-1]\n",
    "        total_reward += reward\n",
    "        rewards = [h[1] for h in history[-n::-1]]\n",
    "        model.update(state, action, G(rewards, gamma, model.estimate_state_value(state)))\n",
    "        if(render):\n",
    "            env.render()\n",
    "#         model.update(state, action, reward + gamma*model.estimate_state_value(state)) #0-step\n",
    "\n",
    "    if(render):\n",
    "        env.close()\n",
    "    return total_reward\n",
    "\n",
    "def G(rewards, gamma, state_estimate):\n",
    "    result = 0\n",
    "    factor = 1\n",
    "    for reward in rewards:\n",
    "        result += factor *reward\n",
    "        factor *= gamma\n",
    "    result += factor*state_estimate\n",
    "    return result"
   ]
  },
  {
   "cell_type": "code",
   "execution_count": null,
   "metadata": {},
   "outputs": [
    {
     "name": "stdout",
     "output_type": "stream",
     "text": [
      "i 0 total_reward -200.0\n",
      "i 50 total_reward -200.0\n"
     ]
    }
   ],
   "source": [
    "play_all(model, 0.5, 0.99, n_games=200, render=False)"
   ]
  },
  {
   "cell_type": "code",
   "execution_count": null,
   "metadata": {},
   "outputs": [],
   "source": [
    "env.step?"
   ]
  }
 ],
 "metadata": {
  "kernelspec": {
   "display_name": "Python 3",
   "language": "python",
   "name": "python3"
  },
  "language_info": {
   "codemirror_mode": {
    "name": "ipython",
    "version": 3
   },
   "file_extension": ".py",
   "mimetype": "text/x-python",
   "name": "python",
   "nbconvert_exporter": "python",
   "pygments_lexer": "ipython3",
   "version": "3.7.3"
  }
 },
 "nbformat": 4,
 "nbformat_minor": 2
}
