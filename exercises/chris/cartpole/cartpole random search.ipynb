{
 "cells": [
  {
   "cell_type": "code",
   "execution_count": 1,
   "metadata": {},
   "outputs": [
    {
     "data": {
      "text/plain": [
       "46.276"
      ]
     },
     "execution_count": 1,
     "metadata": {},
     "output_type": "execute_result"
    }
   ],
   "source": [
    "import gym\n",
    "import numpy as np\n",
    "\n",
    "env = gym.make('CartPole-v0')\n",
    "observation = env.reset()\n",
    "def run(params, env, render = False):\n",
    "    observation = env.reset()\n",
    "    done = False\n",
    "    count = 0\n",
    "    while(done == False):        \n",
    "        action = 0 if observation.dot(params) > 0 else 1\n",
    "            \n",
    "        observation, reward, done, info = env.step(action)  \n",
    "        if(render):\n",
    "            env.render()\n",
    "        count += 1\n",
    "    return count    \n",
    "    \n",
    "np.mean(np.array([run(np.random.randn(4), env) for i in range(1000)]))"
   ]
  },
  {
   "cell_type": "code",
   "execution_count": 2,
   "metadata": {},
   "outputs": [
    {
     "name": "stderr",
     "output_type": "stream",
     "text": [
      "/home/christiaan/anaconda3/lib/python3.7/site-packages/gym/logger.py:30: UserWarning: \u001b[33mWARN: You are calling 'step()' even though this environment has already returned done = True. You should always call 'reset()' once you receive 'done = True' -- any further steps are undefined behavior.\u001b[0m\n",
      "  warnings.warn(colorize('%s: %s'%('WARN', msg % args), 'yellow'))\n"
     ]
    }
   ],
   "source": [
    "env = gym.make('CartPole-v0')\n",
    "env.reset()\n",
    "done = False\n",
    "for i in range(10000):\n",
    "    observation, reward, done, info = env.step(env.action_space.sample())    \n",
    "#     env.render()"
   ]
  },
  {
   "cell_type": "code",
   "execution_count": 3,
   "metadata": {},
   "outputs": [
    {
     "name": "stdout",
     "output_type": "stream",
     "text": [
      "new best 9.43 [ -966.53231688 -1356.51912672   148.1047079   -221.69090124]\n",
      "new best 9.94 [  146.17922239    12.75158671 -1349.31943807   135.96535495]\n",
      "new best 37.24 [-1921.43160137   894.78973486 -1506.69555734   318.44833595]\n",
      "new best 200.0 [ -266.80451599  -873.8347423  -1214.65109022  -785.20765991]\n"
     ]
    }
   ],
   "source": [
    "best_weights = None\n",
    "best_average = 0\n",
    "\n",
    "for i in range(100):\n",
    "    weights = 1000*np.random.randn(4)\n",
    "    average = np.mean(np.array([run(weights, env) for i in range(100)]))\n",
    "    if average > best_average:\n",
    "        print('new best', average, weights)\n",
    "        best_weights = weights\n",
    "        best_average = average"
   ]
  },
  {
   "cell_type": "code",
   "execution_count": 4,
   "metadata": {},
   "outputs": [
    {
     "data": {
      "text/plain": [
       "200.0"
      ]
     },
     "execution_count": 4,
     "metadata": {},
     "output_type": "execute_result"
    }
   ],
   "source": [
    "np.mean(np.array([run(best_weights, env) for i in range(1000)]))"
   ]
  },
  {
   "cell_type": "code",
   "execution_count": 5,
   "metadata": {},
   "outputs": [
    {
     "name": "stdout",
     "output_type": "stream",
     "text": [
      "200\n"
     ]
    }
   ],
   "source": [
    "from gym import wrappers\n",
    "monitored_env = wrappers.Monitor(env, 'episodes')\n",
    "print(run(best_weights, monitored_env))"
   ]
  }
 ],
 "metadata": {
  "kernelspec": {
   "display_name": "Python 3",
   "language": "python",
   "name": "python3"
  },
  "language_info": {
   "codemirror_mode": {
    "name": "ipython",
    "version": 3
   },
   "file_extension": ".py",
   "mimetype": "text/x-python",
   "name": "python",
   "nbconvert_exporter": "python",
   "pygments_lexer": "ipython3",
   "version": "3.7.1"
  }
 },
 "nbformat": 4,
 "nbformat_minor": 2
}
