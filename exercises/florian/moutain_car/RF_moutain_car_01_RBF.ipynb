{
 "cells": [
  {
   "cell_type": "code",
   "execution_count": 1,
   "metadata": {},
   "outputs": [
    {
     "name": "stderr",
     "output_type": "stream",
     "text": [
      "C:\\Users\\FlorianHuber\\Anaconda3\\lib\\site-packages\\sklearn\\linear_model\\stochastic_gradient.py:128: FutureWarning: max_iter and tol parameters have been added in <class 'sklearn.linear_model.stochastic_gradient.SGDRegressor'> in 0.19. If both are left unset, they default to max_iter=5 and tol=None. If tol is not None, max_iter defaults to max_iter=1000. From 0.21, default max_iter will be 1000, and default tol will be 1e-3.\n",
      "  \"and default tol will be 1e-3.\" % type(self), FutureWarning)\n"
     ]
    },
    {
     "data": {
      "text/plain": [
       "array([0.])"
      ]
     },
     "execution_count": 1,
     "metadata": {},
     "output_type": "execute_result"
    }
   ],
   "source": [
    "from sklearn.linear_model import SGDRegressor\n",
    "model = SGDRegressor()\n",
    "model.partial_fit([[0,0]], [0])\n",
    "model.predict([[0, 0]])"
   ]
  },
  {
   "cell_type": "code",
   "execution_count": 2,
   "metadata": {},
   "outputs": [
    {
     "data": {
      "text/plain": [
       "array([0.])"
      ]
     },
     "execution_count": 2,
     "metadata": {},
     "output_type": "execute_result"
    }
   ],
   "source": [
    "model.predict([[0, 1]])"
   ]
  },
  {
   "cell_type": "code",
   "execution_count": 3,
   "metadata": {},
   "outputs": [
    {
     "name": "stderr",
     "output_type": "stream",
     "text": [
      "C:\\Users\\FlorianHuber\\Anaconda3\\lib\\site-packages\\sklearn\\linear_model\\stochastic_gradient.py:128: FutureWarning: max_iter and tol parameters have been added in <class 'sklearn.linear_model.stochastic_gradient.SGDRegressor'> in 0.19. If both are left unset, they default to max_iter=5 and tol=None. If tol is not None, max_iter defaults to max_iter=1000. From 0.21, default max_iter will be 1000, and default tol will be 1e-3.\n",
      "  \"and default tol will be 1e-3.\" % type(self), FutureWarning)\n"
     ]
    },
    {
     "data": {
      "text/plain": [
       "SGDRegressor(alpha=0.0001, average=False, epsilon=0.1, eta0=0.01,\n",
       "       fit_intercept=True, l1_ratio=0.15, learning_rate='invscaling',\n",
       "       loss='squared_loss', max_iter=None, n_iter=None, penalty='l2',\n",
       "       power_t=0.25, random_state=None, shuffle=True, tol=None, verbose=0,\n",
       "       warm_start=False)"
      ]
     },
     "execution_count": 3,
     "metadata": {},
     "output_type": "execute_result"
    }
   ],
   "source": [
    "model.partial_fit([[1,0]],[1])"
   ]
  },
  {
   "cell_type": "code",
   "execution_count": 267,
   "metadata": {},
   "outputs": [],
   "source": [
    "import numpy as np\n",
    "import gym\n",
    "from sklearn.preprocessing import StandardScaler\n",
    "from sklearn.pipeline import FeatureUnion\n",
    "\n",
    "env = gym.make('MountainCar-v0')\n",
    "\n",
    "def get_transformer():\n",
    "    sampler = RBFSampler(gamma=2.0, n_components=1000, random_state=1234)\n",
    "    \"\"\"n_components=500\n",
    "    sampler = FeatureUnion([\n",
    "            (\"rbf1\", RBFSampler(gamma=5.0, n_components=n_components)),\n",
    "            (\"rbf2\", RBFSampler(gamma=2.0, n_components=n_components)),\n",
    "            (\"rbf3\", RBFSampler(gamma=1.0, n_components=n_components)),\n",
    "            (\"rbf4\", RBFSampler(gamma=0.5, n_components=n_components))\n",
    "            ])\"\"\"\n",
    "    \n",
    "    scaler = StandardScaler()\n",
    "\n",
    "    observation_sample = np.vstack([env.observation_space.sample() for i in range(10000)])\n",
    "    scaler.fit(observation_sample)\n",
    "    \n",
    "    return sampler.fit(scaler.transform(observation_sample)), scaler "
   ]
  },
  {
   "cell_type": "code",
   "execution_count": 272,
   "metadata": {},
   "outputs": [
    {
     "name": "stdout",
     "output_type": "stream",
     "text": [
      "transformed_observation.shape (1, 1000)\n"
     ]
    },
    {
     "name": "stderr",
     "output_type": "stream",
     "text": [
      "C:\\Users\\FlorianHuber\\Anaconda3\\lib\\site-packages\\sklearn\\linear_model\\stochastic_gradient.py:128: FutureWarning: max_iter and tol parameters have been added in <class 'sklearn.linear_model.stochastic_gradient.SGDRegressor'> in 0.19. If both are left unset, they default to max_iter=5 and tol=None. If tol is not None, max_iter defaults to max_iter=1000. From 0.21, default max_iter will be 1000, and default tol will be 1e-3.\n",
      "  \"and default tol will be 1e-3.\" % type(self), FutureWarning)\n"
     ]
    }
   ],
   "source": [
    "from sklearn.kernel_approximation import RBFSampler\n",
    "\n",
    "observation = env.reset()\n",
    "transformer, scaler = get_transformer()\n",
    "transformed_observation = transformer.transform([observation])\n",
    "print('transformed_observation.shape',transformed_observation.shape)\n",
    "models = [SGDRegressor() for i in range(env.action_space.n)]\n",
    "for model in models:\n",
    "    model.partial_fit(transformed_observation,[0])"
   ]
  },
  {
   "cell_type": "code",
   "execution_count": 285,
   "metadata": {},
   "outputs": [],
   "source": [
    "def decide_action(predictions, epsilon):\n",
    "    if np.random.random() < epsilon:\n",
    "        return env.action_space.sample()\n",
    "    else:\n",
    "        return np.argmax(np.stack(predictions).T)\n",
    "        \n",
    "        \n",
    "def run(env, gamma, epsilon, render = False):\n",
    "    observation = env.reset()\n",
    "    # Transform observation (into higher dimensional feature space)\n",
    "    transformed_observation = transformer.transform(scaler.transform([observation]))\n",
    "    \n",
    "    done = False\n",
    "    action = None\n",
    "    total_reward = 0\n",
    "    while(done == False):        \n",
    "\n",
    "        # Make prediction\n",
    "        predictions = [m.predict(transformed_observation) for m in models]\n",
    "\n",
    "        action = decide_action(predictions, epsilon)\n",
    "\n",
    "        next_observation, reward, done, info = env.step(action)\n",
    "        \n",
    "        next_transformed_observation = transformer.transform(scaler.transform([next_observation]))\n",
    "        \n",
    "        next_predictions = [m.predict(next_transformed_observation) for m in models]\n",
    "        new_value = reward + gamma * max(next_predictions)\n",
    "        \n",
    "        # Update models\n",
    "        models[action].partial_fit(transformed_observation, [new_value[0]])\n",
    "        \n",
    "        # Update observation:\n",
    "        observation = next_observation\n",
    "        transformed_observation = next_transformed_observation\n",
    "        \n",
    "        if(render):\n",
    "            env.render()\n",
    "        total_reward += reward\n",
    "        \n",
    "    if(render):\n",
    "        env.close()\n",
    "    return total_reward \n",
    "\n"
   ]
  },
  {
   "cell_type": "code",
   "execution_count": 304,
   "metadata": {},
   "outputs": [
    {
     "name": "stderr",
     "output_type": "stream",
     "text": [
      "C:\\Users\\FlorianHuber\\Anaconda3\\lib\\site-packages\\sklearn\\linear_model\\stochastic_gradient.py:128: FutureWarning: max_iter and tol parameters have been added in <class 'sklearn.linear_model.stochastic_gradient.SGDRegressor'> in 0.19. If both are left unset, they default to max_iter=5 and tol=None. If tol is not None, max_iter defaults to max_iter=1000. From 0.21, default max_iter will be 1000, and default tol will be 1e-3.\n",
      "  \"and default tol will be 1e-3.\" % type(self), FutureWarning)\n"
     ]
    },
    {
     "name": "stdout",
     "output_type": "stream",
     "text": [
      "-88.0\n",
      "-148.0\n",
      "-158.0\n",
      "-149.0\n",
      "-149.0\n",
      "-150.0\n",
      "-84.0\n",
      "-151.0\n",
      "-85.0\n",
      "-87.0\n",
      "-159.0\n",
      "-86.0\n",
      "-165.0\n",
      "-150.0\n",
      "-162.0\n",
      "-90.0\n",
      "-150.0\n",
      "-84.0\n",
      "-152.0\n",
      "-148.0\n",
      "-152.0\n",
      "-164.0\n",
      "-159.0\n",
      "-148.0\n",
      "-155.0\n",
      "-83.0\n",
      "-156.0\n",
      "-154.0\n",
      "-149.0\n",
      "-162.0\n",
      "-86.0\n",
      "-152.0\n",
      "-91.0\n",
      "-179.0\n",
      "-155.0\n",
      "-150.0\n",
      "-148.0\n",
      "-176.0\n",
      "-158.0\n",
      "-158.0\n"
     ]
    }
   ],
   "source": [
    "#rewards = []\n",
    "for i in range(40):\n",
    "    for i in range(20):\n",
    "        rewards.append(run(env, 0.99, 0.001)) # first 5000 runs with epsilon = 0.1 !\n",
    "    \n",
    "    print(rewards[-1])\n",
    "    #print(np.mean([run(env, 0.9) for i in range(20)]))\n",
    "#     run(env, render=True)"
   ]
  },
  {
   "cell_type": "code",
   "execution_count": 305,
   "metadata": {},
   "outputs": [
    {
     "data": {
      "image/png": "[encoded data removed]",
      "text/plain": [
       "<Figure size 720x360 with 1 Axes>"
      ]
     },
     "metadata": {},
     "output_type": "display_data"
    }
   ],
   "source": [
    "import matplotlib.pyplot as plt\n",
    "\n",
    "rewards_array = np.array(rewards)\n",
    "avg_reward = []\n",
    "avg_over = 100\n",
    "for i in range(len(rewards)):\n",
    "    avg_reward.append(rewards_array[max(0, i - avg_over):(i +1)].mean())\n",
    "\n",
    "fig = plt.figure(figsize=(10, 5))\n",
    "#plt.plot(rewards)\n",
    "plt.plot(avg_reward)\n",
    "plt.title(\"Total rewards\")\n",
    "plt.show()"
   ]
  },
  {
   "cell_type": "code",
   "execution_count": 308,
   "metadata": {},
   "outputs": [
    {
     "name": "stderr",
     "output_type": "stream",
     "text": [
      "C:\\Users\\FlorianHuber\\Anaconda3\\lib\\site-packages\\sklearn\\linear_model\\stochastic_gradient.py:128: FutureWarning: max_iter and tol parameters have been added in <class 'sklearn.linear_model.stochastic_gradient.SGDRegressor'> in 0.19. If both are left unset, they default to max_iter=5 and tol=None. If tol is not None, max_iter defaults to max_iter=1000. From 0.21, default max_iter will be 1000, and default tol will be 1e-3.\n",
      "  \"and default tol will be 1e-3.\" % type(self), FutureWarning)\n"
     ]
    },
    {
     "data": {
      "text/plain": [
       "-86.0"
      ]
     },
     "execution_count": 308,
     "metadata": {},
     "output_type": "execute_result"
    }
   ],
   "source": [
    "# display one run\n",
    "run(env, 0.99, 0.0, render = True)"
   ]
  },
  {
   "cell_type": "code",
   "execution_count": 243,
   "metadata": {},
   "outputs": [
    {
     "name": "stdout",
     "output_type": "stream",
     "text": [
      "[-5.26719647e-01 -2.67912820e-04] -1.0\n",
      "[-0.04068231 -0.0632352   0.04236201 -0.0618868   0.00198771  0.06286966\n",
      " -0.01759054  0.00916721 -0.06232915  0.04857261  0.05658071 -0.04175123\n",
      "  0.01565441 -0.01904836  0.06323999  0.00160379  0.04682458  0.06302005\n",
      "  0.02869552  0.0604617 ]\n"
     ]
    }
   ],
   "source": [
    "action = 1\n",
    "next_observation, reward, done, info = env.step(action)\n",
    "print(next_observation, reward)\n",
    "print(transformer.transform([next_observation])[0][:20])"
   ]
  },
  {
   "cell_type": "code",
   "execution_count": 244,
   "metadata": {},
   "outputs": [
    {
     "data": {
      "text/plain": [
       "array([[-0.4250226,  0.00044  ]])"
      ]
     },
     "execution_count": 244,
     "metadata": {},
     "output_type": "execute_result"
    }
   ],
   "source": [
    "scaler.transform([next_observation])"
   ]
  },
  {
   "cell_type": "code",
   "execution_count": 245,
   "metadata": {},
   "outputs": [
    {
     "name": "stdout",
     "output_type": "stream",
     "text": [
      "2\n",
      "[array([-43.05265893]), array([-43.03955614]), array([-43.0311854])]\n"
     ]
    }
   ],
   "source": [
    "predictions = [m.predict(transformer.transform([next_observation])) for m in models]\n",
    "print(np.argmax(np.stack(predictions).T))\n",
    "print([m.predict(transformer.transform([next_observation])) for m in models])"
   ]
  },
  {
   "cell_type": "code",
   "execution_count": 21,
   "metadata": {},
   "outputs": [],
   "source": [
    "next_transformed_observation = transformer.transform([next_observation])\n",
    "next_predictions = [m.predict(next_transformed_observation) for m in models]"
   ]
  },
  {
   "cell_type": "code",
   "execution_count": 22,
   "metadata": {},
   "outputs": [
    {
     "data": {
      "text/plain": [
       "[array([0.]), array([0.]), array([0.])]"
      ]
     },
     "execution_count": 22,
     "metadata": {},
     "output_type": "execute_result"
    }
   ],
   "source": [
    "next_predictions"
   ]
  },
  {
   "cell_type": "code",
   "execution_count": 215,
   "metadata": {},
   "outputs": [
    {
     "data": {
      "text/plain": [
       "StandardScaler(copy=True, with_mean=True, with_std=True)"
      ]
     },
     "execution_count": 215,
     "metadata": {},
     "output_type": "execute_result"
    }
   ],
   "source": [
    "from sklearn.preprocessing import StandardScaler\n",
    "scaler = StandardScaler()\n",
    "observation_sample = np.vstack([env.observation_space.sample() for i in range(10000)])\n",
    "scaler.fit(observation_sample)"
   ]
  },
  {
   "cell_type": "code",
   "execution_count": 222,
   "metadata": {},
   "outputs": [],
   "source": [
    "next_observation_scaled = scaler.transform([next_observation])"
   ]
  },
  {
   "cell_type": "code",
   "execution_count": 225,
   "metadata": {},
   "outputs": [
    {
     "name": "stdout",
     "output_type": "stream",
     "text": [
      "[[-0.5064451  -0.08041898]] [-0.56120488 -0.0028085 ]\n"
     ]
    }
   ],
   "source": [
    "print(next_observation_scaled, next_observation)"
   ]
  }
 ],
 "metadata": {
  "kernelspec": {
   "display_name": "Python 3",
   "language": "python",
   "name": "python3"
  },
  "language_info": {
   "codemirror_mode": {
    "name": "ipython",
    "version": 3
   },
   "file_extension": ".py",
   "mimetype": "text/x-python",
   "name": "python",
   "nbconvert_exporter": "python",
   "pygments_lexer": "ipython3",
   "version": "3.6.5"
  }
 },
 "nbformat": 4,
 "nbformat_minor": 2
}
