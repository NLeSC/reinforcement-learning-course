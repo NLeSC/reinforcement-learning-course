{
 "cells": [
  {
   "cell_type": "code",
   "execution_count": 3,
   "metadata": {},
   "outputs": [],
   "source": [
    "import numpy as np\n",
    "import gym\n",
    "from sklearn.linear_model import SGDRegressor\n",
    "from sklearn.preprocessing import StandardScaler\n",
    "from sklearn.pipeline import FeatureUnion\n",
    "\n",
    "env = gym.make('MountainCar-v0')\n",
    "\n",
    "def get_transformer():\n",
    "    sampler = RBFSampler(gamma=2.0, n_components=1000, random_state=1234)\n",
    "    \"\"\" this would be the alternative from the course solution:\n",
    "    n_components=500\n",
    "    sampler = FeatureUnion([\n",
    "            (\"rbf1\", RBFSampler(gamma=5.0, n_components=n_components)),\n",
    "            (\"rbf2\", RBFSampler(gamma=2.0, n_components=n_components)),\n",
    "            (\"rbf3\", RBFSampler(gamma=1.0, n_components=n_components)),\n",
    "            (\"rbf4\", RBFSampler(gamma=0.5, n_components=n_components))\n",
    "            ])\"\"\"\n",
    "    \n",
    "    #from the course solution: \n",
    "    #scaler = StandardScaler()\n",
    "\n",
    "    observation_sample = np.vstack([env.observation_space.sample() for i in range(10000)])\n",
    "    #scaler.fit(observation_sample)\n",
    "    #return sampler.fit(scaler.transform(observation_sample)), scaler \n",
    "    return sampler.fit(observation_sample)"
   ]
  },
  {
   "cell_type": "code",
   "execution_count": 5,
   "metadata": {},
   "outputs": [],
   "source": [
    "def decide_action(predictions, epsilon):\n",
    "    if np.random.random() < epsilon:\n",
    "        return env.action_space.sample()\n",
    "    else:\n",
    "        return np.argmax(np.stack(predictions).T)\n",
    "        \n",
    "        \n",
    "def run(env, gamma, epsilon, render = False):\n",
    "    observation = env.reset()\n",
    "    # Transform observation (into higher dimensional feature space)\n",
    "    #transformed_observation = transformer.transform(scaler.transform([observation]))\n",
    "    transformed_observation = transformer.transform([observation])\n",
    "    \n",
    "    done = False\n",
    "    action = None\n",
    "    total_reward = 0\n",
    "    while(done == False):        \n",
    "\n",
    "        # Make prediction\n",
    "        predictions = [m.predict(transformed_observation) for m in models]\n",
    "\n",
    "        # Choose action & do step\n",
    "        action = decide_action(predictions, epsilon)\n",
    "        next_observation, reward, done, info = env.step(action)\n",
    "        next_transformed_observation = transformer.transform([next_observation])\n",
    "        \n",
    "        # Make prediction and calculate value\n",
    "        next_predictions = [m.predict(next_transformed_observation) for m in models]\n",
    "        new_value = reward + gamma * max(next_predictions)\n",
    "        \n",
    "        # Update models\n",
    "        models[action].partial_fit(transformed_observation, [new_value[0]])\n",
    "        \n",
    "        # Update observation:\n",
    "        observation = next_observation\n",
    "        transformed_observation = next_transformed_observation\n",
    "        \n",
    "        if(render):\n",
    "            env.render()\n",
    "        total_reward += reward\n",
    "        \n",
    "    if(render):\n",
    "        env.close()\n",
    "    return total_reward \n",
    "\n"
   ]
  },
  {
   "cell_type": "code",
   "execution_count": 4,
   "metadata": {},
   "outputs": [
    {
     "name": "stdout",
     "output_type": "stream",
     "text": [
      "transformed_observation.shape (1, 1000)\n"
     ]
    },
    {
     "name": "stderr",
     "output_type": "stream",
     "text": [
      "C:\\Users\\FlorianHuber\\Anaconda3\\lib\\site-packages\\sklearn\\linear_model\\stochastic_gradient.py:128: FutureWarning: max_iter and tol parameters have been added in <class 'sklearn.linear_model.stochastic_gradient.SGDRegressor'> in 0.19. If both are left unset, they default to max_iter=5 and tol=None. If tol is not None, max_iter defaults to max_iter=1000. From 0.21, default max_iter will be 1000, and default tol will be 1e-3.\n",
      "  \"and default tol will be 1e-3.\" % type(self), FutureWarning)\n"
     ]
    }
   ],
   "source": [
    "from sklearn.kernel_approximation import RBFSampler\n",
    "\n",
    "observation = env.reset()\n",
    "#transformer, scaler = get_transformer()\n",
    "transformer = get_transformer()\n",
    "transformed_observation = transformer.transform([observation])\n",
    "print('transformed_observation.shape',transformed_observation.shape)"
   ]
  },
  {
   "cell_type": "markdown",
   "metadata": {},
   "source": [
    "### Learn to drive 1\n",
    "+ Fixed epsilon = 0.1\n",
    "+ One RBF (gamma = 2.0) --> 1000 features"
   ]
  },
  {
   "cell_type": "code",
   "execution_count": 12,
   "metadata": {},
   "outputs": [
    {
     "name": "stderr",
     "output_type": "stream",
     "text": [
      "C:\\Users\\FlorianHuber\\Anaconda3\\lib\\site-packages\\sklearn\\linear_model\\stochastic_gradient.py:128: FutureWarning: max_iter and tol parameters have been added in <class 'sklearn.linear_model.stochastic_gradient.SGDRegressor'> in 0.19. If both are left unset, they default to max_iter=5 and tol=None. If tol is not None, max_iter defaults to max_iter=1000. From 0.21, default max_iter will be 1000, and default tol will be 1e-3.\n",
      "  \"and default tol will be 1e-3.\" % type(self), FutureWarning)\n"
     ]
    },
    {
     "name": "stdout",
     "output_type": "stream",
     "text": [
      "Total reward for run  100  :  -200.0\n",
      "Total reward for run  200  :  -200.0\n",
      "Total reward for run  300  :  -200.0\n",
      "Total reward for run  400  :  -200.0\n",
      "Total reward for run  500  :  -200.0\n",
      "Total reward for run  600  :  -200.0\n",
      "Total reward for run  700  :  -200.0\n",
      "Total reward for run  800  :  -200.0\n",
      "Total reward for run  900  :  -200.0\n",
      "Total reward for run  1000  :  -200.0\n",
      "Total reward for run  1100  :  -200.0\n",
      "Total reward for run  1200  :  -183.0\n",
      "Total reward for run  1300  :  -194.0\n",
      "Total reward for run  1400  :  -200.0\n",
      "Total reward for run  1500  :  -200.0\n",
      "Total reward for run  1600  :  -197.0\n",
      "Total reward for run  1700  :  -181.0\n",
      "Total reward for run  1800  :  -200.0\n",
      "Total reward for run  1900  :  -191.0\n",
      "Total reward for run  2000  :  -199.0\n",
      "Total reward for run  2100  :  -200.0\n",
      "Total reward for run  2200  :  -200.0\n",
      "Total reward for run  2300  :  -200.0\n",
      "Total reward for run  2400  :  -200.0\n",
      "Total reward for run  2500  :  -200.0\n",
      "Total reward for run  2600  :  -200.0\n",
      "Total reward for run  2700  :  -200.0\n",
      "Total reward for run  2800  :  -200.0\n",
      "Total reward for run  2900  :  -199.0\n",
      "Total reward for run  3000  :  -200.0\n",
      "Total reward for run  3100  :  -192.0\n",
      "Total reward for run  3200  :  -200.0\n",
      "Total reward for run  3300  :  -194.0\n",
      "Total reward for run  3400  :  -200.0\n",
      "Total reward for run  3500  :  -200.0\n",
      "Total reward for run  3600  :  -200.0\n",
      "Total reward for run  3700  :  -200.0\n",
      "Total reward for run  3800  :  -200.0\n",
      "Total reward for run  3900  :  -200.0\n",
      "Total reward for run  4000  :  -200.0\n",
      "Total reward for run  4100  :  -200.0\n",
      "Total reward for run  4200  :  -200.0\n",
      "Total reward for run  4300  :  -191.0\n",
      "Total reward for run  4400  :  -200.0\n",
      "Total reward for run  4500  :  -200.0\n",
      "Total reward for run  4600  :  -200.0\n",
      "Total reward for run  4700  :  -200.0\n",
      "Total reward for run  4800  :  -200.0\n",
      "Total reward for run  4900  :  -200.0\n",
      "Total reward for run  5000  :  -200.0\n"
     ]
    }
   ],
   "source": [
    "# Initialize model\n",
    "models = [SGDRegressor() for i in range(env.action_space.n)]\n",
    "for model in models:\n",
    "    model.partial_fit(transformed_observation,[0])\n",
    "\n",
    "# Run many epochs (\"learn to drive...\")\n",
    "rewards = []\n",
    "gamma = 0.99\n",
    "epsilon = 0.1\n",
    "for i in range(5000):\n",
    "    rewards.append(run(env, gamma, epsilon)) \n",
    "    if (i+1)%100 == 0:\n",
    "        print(\"Total reward for run \", i+1, \" : \", rewards[-1])\n"
   ]
  },
  {
   "cell_type": "code",
   "execution_count": 14,
   "metadata": {
    "scrolled": true
   },
   "outputs": [
    {
     "data": {
      "image/png": "[encoded data removed]",
      "text/plain": [
       "<Figure size 720x360 with 1 Axes>"
      ]
     },
     "metadata": {},
     "output_type": "display_data"
    }
   ],
   "source": [
    "import matplotlib.pyplot as plt\n",
    "\n",
    "rewards_array = np.array(rewards)\n",
    "avg_reward = []\n",
    "avg_over = 100\n",
    "for i in range(len(rewards)):\n",
    "    avg_reward.append(rewards_array[max(0, i - avg_over):(i +1)].mean())\n",
    "\n",
    "fig = plt.figure(figsize=(10, 5))\n",
    "#plt.plot(rewards)\n",
    "plt.plot(avg_reward)\n",
    "plt.title(\"Total rewards\")\n",
    "plt.show()"
   ]
  },
  {
   "cell_type": "code",
   "execution_count": 19,
   "metadata": {},
   "outputs": [
    {
     "data": {
      "text/plain": [
       "0.006737946999085467"
      ]
     },
     "execution_count": 19,
     "metadata": {},
     "output_type": "execute_result"
    }
   ],
   "source": [
    "np.exp(-0.001*5000)"
   ]
  },
  {
   "cell_type": "markdown",
   "metadata": {},
   "source": [
    "### Learn to drive 2\n",
    "+ Decaying epsilon, from 0.1 to 0\n",
    "+ One RBF (gamma = 2.0) --> 1000 features"
   ]
  },
  {
   "cell_type": "code",
   "execution_count": 20,
   "metadata": {},
   "outputs": [
    {
     "name": "stderr",
     "output_type": "stream",
     "text": [
      "C:\\Users\\FlorianHuber\\Anaconda3\\lib\\site-packages\\sklearn\\linear_model\\stochastic_gradient.py:128: FutureWarning: max_iter and tol parameters have been added in <class 'sklearn.linear_model.stochastic_gradient.SGDRegressor'> in 0.19. If both are left unset, they default to max_iter=5 and tol=None. If tol is not None, max_iter defaults to max_iter=1000. From 0.21, default max_iter will be 1000, and default tol will be 1e-3.\n",
      "  \"and default tol will be 1e-3.\" % type(self), FutureWarning)\n"
     ]
    },
    {
     "name": "stdout",
     "output_type": "stream",
     "text": [
      "Total reward for run  100  :  -200.0\n",
      "Total reward for run  200  :  -200.0\n",
      "Total reward for run  300  :  -200.0\n",
      "Total reward for run  400  :  -200.0\n",
      "Total reward for run  500  :  -200.0\n",
      "Total reward for run  600  :  -200.0\n",
      "Total reward for run  700  :  -200.0\n",
      "Total reward for run  800  :  -200.0\n",
      "Total reward for run  900  :  -187.0\n",
      "Total reward for run  1000  :  -200.0\n",
      "Total reward for run  1100  :  -186.0\n",
      "Total reward for run  1200  :  -200.0\n",
      "Total reward for run  1300  :  -146.0\n",
      "Total reward for run  1400  :  -185.0\n",
      "Total reward for run  1500  :  -177.0\n",
      "Total reward for run  1600  :  -190.0\n",
      "Total reward for run  1700  :  -200.0\n",
      "Total reward for run  1800  :  -200.0\n",
      "Total reward for run  1900  :  -194.0\n",
      "Total reward for run  2000  :  -200.0\n",
      "Total reward for run  2100  :  -200.0\n",
      "Total reward for run  2200  :  -200.0\n",
      "Total reward for run  2300  :  -200.0\n",
      "Total reward for run  2400  :  -200.0\n",
      "Total reward for run  2500  :  -200.0\n",
      "Total reward for run  2600  :  -200.0\n",
      "Total reward for run  2700  :  -186.0\n",
      "Total reward for run  2800  :  -200.0\n",
      "Total reward for run  2900  :  -200.0\n",
      "Total reward for run  3000  :  -188.0\n",
      "Total reward for run  3100  :  -200.0\n",
      "Total reward for run  3200  :  -200.0\n",
      "Total reward for run  3300  :  -197.0\n",
      "Total reward for run  3400  :  -200.0\n",
      "Total reward for run  3500  :  -200.0\n",
      "Total reward for run  3600  :  -200.0\n",
      "Total reward for run  3700  :  -200.0\n",
      "Total reward for run  3800  :  -200.0\n",
      "Total reward for run  3900  :  -200.0\n",
      "Total reward for run  4000  :  -200.0\n",
      "Total reward for run  4100  :  -200.0\n",
      "Total reward for run  4200  :  -200.0\n",
      "Total reward for run  4300  :  -200.0\n",
      "Total reward for run  4400  :  -200.0\n",
      "Total reward for run  4500  :  -200.0\n",
      "Total reward for run  4600  :  -200.0\n",
      "Total reward for run  4700  :  -200.0\n",
      "Total reward for run  4800  :  -200.0\n",
      "Total reward for run  4900  :  -200.0\n",
      "Total reward for run  5000  :  -200.0\n"
     ]
    }
   ],
   "source": [
    "# Initialize model\n",
    "models = [SGDRegressor() for i in range(env.action_space.n)]\n",
    "for model in models:\n",
    "    model.partial_fit(transformed_observation,[0])\n",
    "\n",
    "# Run many epochs (\"learn to drive...\")\n",
    "rewards = []\n",
    "gamma = 0.99\n",
    "eps_initial = 0.1\n",
    "eps_decay = 0.001\n",
    "for i in range(5000):\n",
    "    epsilon = eps_initial * np.exp(-eps_decay * i)\n",
    "    rewards.append(run(env, gamma, epsilon)) \n",
    "    if (i+1)%100 == 0:\n",
    "        print(\"Total reward for run \", i+1, \" : \", rewards[-1])\n"
   ]
  },
  {
   "cell_type": "code",
   "execution_count": 21,
   "metadata": {},
   "outputs": [
    {
     "data": {
      "image/png": "[encoded data removed]",
      "text/plain": [
       "<Figure size 720x360 with 1 Axes>"
      ]
     },
     "metadata": {},
     "output_type": "display_data"
    }
   ],
   "source": [
    "import matplotlib.pyplot as plt\n",
    "\n",
    "rewards_array = np.array(rewards)\n",
    "avg_reward = []\n",
    "avg_over = 100\n",
    "for i in range(len(rewards)):\n",
    "    avg_reward.append(rewards_array[max(0, i - avg_over):(i +1)].mean())\n",
    "\n",
    "fig = plt.figure(figsize=(10, 5))\n",
    "#plt.plot(rewards)\n",
    "plt.plot(avg_reward)\n",
    "plt.title(\"Total rewards\")\n",
    "plt.show()"
   ]
  },
  {
   "cell_type": "markdown",
   "metadata": {},
   "source": [
    "### Include sklearn's StandardScaler"
   ]
  },
  {
   "cell_type": "code",
   "execution_count": 22,
   "metadata": {},
   "outputs": [],
   "source": [
    "import numpy as np\n",
    "import gym\n",
    "from sklearn.linear_model import SGDRegressor\n",
    "from sklearn.preprocessing import StandardScaler\n",
    "from sklearn.pipeline import FeatureUnion\n",
    "\n",
    "env = gym.make('MountainCar-v0')\n",
    "\n",
    "def get_transformer():\n",
    "    sampler = RBFSampler(gamma=2.0, n_components=1000, random_state=1234)\n",
    "    \"\"\" this would be the alternative from the course solution:\n",
    "    n_components=500\n",
    "    sampler = FeatureUnion([\n",
    "            (\"rbf1\", RBFSampler(gamma=5.0, n_components=n_components)),\n",
    "            (\"rbf2\", RBFSampler(gamma=2.0, n_components=n_components)),\n",
    "            (\"rbf3\", RBFSampler(gamma=1.0, n_components=n_components)),\n",
    "            (\"rbf4\", RBFSampler(gamma=0.5, n_components=n_components))\n",
    "            ])\"\"\"\n",
    "    \n",
    "    #from the course solution: \n",
    "    scaler = StandardScaler()\n",
    "\n",
    "    observation_sample = np.vstack([env.observation_space.sample() for i in range(10000)])\n",
    "    scaler.fit(observation_sample)\n",
    "    return sampler.fit(scaler.transform(observation_sample)), scaler "
   ]
  },
  {
   "cell_type": "code",
   "execution_count": 23,
   "metadata": {},
   "outputs": [],
   "source": [
    "def decide_action(predictions, epsilon):\n",
    "    if np.random.random() < epsilon:\n",
    "        return env.action_space.sample()\n",
    "    else:\n",
    "        return np.argmax(np.stack(predictions).T)\n",
    "        \n",
    "        \n",
    "def run(env, gamma, epsilon, render = False):\n",
    "    observation = env.reset()\n",
    "    # Transform observation (into higher dimensional feature space)\n",
    "    transformed_observation = transformer.transform(scaler.transform([observation]))\n",
    "    \n",
    "    done = False\n",
    "    action = None\n",
    "    total_reward = 0\n",
    "    while(done == False):        \n",
    "\n",
    "        # Make prediction\n",
    "        predictions = [m.predict(transformed_observation) for m in models]\n",
    "        # Choose action & do step\n",
    "        action = decide_action(predictions, epsilon)\n",
    "        next_observation, reward, done, info = env.step(action)\n",
    "        next_transformed_observation = transformer.transform(scaler.transform([next_observation]))\n",
    "        \n",
    "        # Make prediction and calculate value\n",
    "        next_predictions = [m.predict(next_transformed_observation) for m in models]\n",
    "        new_value = reward + gamma * max(next_predictions)\n",
    "        \n",
    "        # Update models\n",
    "        models[action].partial_fit(transformed_observation, [new_value[0]])\n",
    "        \n",
    "        # Update observation:\n",
    "        observation = next_observation\n",
    "        transformed_observation = next_transformed_observation\n",
    "        \n",
    "        if(render):\n",
    "            env.render()\n",
    "        total_reward += reward\n",
    "        \n",
    "    if(render):\n",
    "        env.close()\n",
    "    return total_reward "
   ]
  },
  {
   "cell_type": "code",
   "execution_count": 25,
   "metadata": {},
   "outputs": [
    {
     "name": "stdout",
     "output_type": "stream",
     "text": [
      "transformed_observation.shape (1, 1000)\n"
     ]
    }
   ],
   "source": [
    "observation = env.reset()\n",
    "transformer, scaler = get_transformer()\n",
    "transformed_observation = transformer.transform([observation])\n",
    "print('transformed_observation.shape',transformed_observation.shape)"
   ]
  },
  {
   "cell_type": "markdown",
   "metadata": {},
   "source": [
    "### Learn to drive 3\n",
    "+ Fixed epsilon = 0.1\n",
    "+ One RBF (gamma = 2.0) --> 1000 features\n",
    "+ Include StandardScaler to scale observations"
   ]
  },
  {
   "cell_type": "code",
   "execution_count": 26,
   "metadata": {},
   "outputs": [
    {
     "name": "stderr",
     "output_type": "stream",
     "text": [
      "C:\\Users\\FlorianHuber\\Anaconda3\\lib\\site-packages\\sklearn\\linear_model\\stochastic_gradient.py:128: FutureWarning: max_iter and tol parameters have been added in <class 'sklearn.linear_model.stochastic_gradient.SGDRegressor'> in 0.19. If both are left unset, they default to max_iter=5 and tol=None. If tol is not None, max_iter defaults to max_iter=1000. From 0.21, default max_iter will be 1000, and default tol will be 1e-3.\n",
      "  \"and default tol will be 1e-3.\" % type(self), FutureWarning)\n"
     ]
    },
    {
     "name": "stdout",
     "output_type": "stream",
     "text": [
      "Total reward for run  100  :  -200.0\n",
      "Total reward for run  200  :  -200.0\n",
      "Total reward for run  300  :  -200.0\n",
      "Total reward for run  400  :  -200.0\n",
      "Total reward for run  500  :  -200.0\n",
      "Total reward for run  600  :  -200.0\n",
      "Total reward for run  700  :  -200.0\n",
      "Total reward for run  800  :  -200.0\n",
      "Total reward for run  900  :  -200.0\n",
      "Total reward for run  1000  :  -200.0\n",
      "Total reward for run  1100  :  -200.0\n",
      "Total reward for run  1200  :  -200.0\n",
      "Total reward for run  1300  :  -200.0\n",
      "Total reward for run  1400  :  -200.0\n",
      "Total reward for run  1500  :  -197.0\n",
      "Total reward for run  1600  :  -200.0\n",
      "Total reward for run  1700  :  -200.0\n",
      "Total reward for run  1800  :  -154.0\n",
      "Total reward for run  1900  :  -200.0\n",
      "Total reward for run  2000  :  -166.0\n",
      "Total reward for run  2100  :  -200.0\n",
      "Total reward for run  2200  :  -168.0\n",
      "Total reward for run  2300  :  -160.0\n",
      "Total reward for run  2400  :  -155.0\n",
      "Total reward for run  2500  :  -161.0\n",
      "Total reward for run  2600  :  -124.0\n",
      "Total reward for run  2700  :  -154.0\n",
      "Total reward for run  2800  :  -161.0\n",
      "Total reward for run  2900  :  -200.0\n",
      "Total reward for run  3000  :  -156.0\n",
      "Total reward for run  3100  :  -155.0\n",
      "Total reward for run  3200  :  -147.0\n",
      "Total reward for run  3300  :  -166.0\n",
      "Total reward for run  3400  :  -162.0\n",
      "Total reward for run  3500  :  -200.0\n",
      "Total reward for run  3600  :  -200.0\n",
      "Total reward for run  3700  :  -145.0\n",
      "Total reward for run  3800  :  -149.0\n",
      "Total reward for run  3900  :  -150.0\n",
      "Total reward for run  4000  :  -173.0\n",
      "Total reward for run  4100  :  -200.0\n",
      "Total reward for run  4200  :  -163.0\n",
      "Total reward for run  4300  :  -175.0\n",
      "Total reward for run  4400  :  -153.0\n",
      "Total reward for run  4500  :  -173.0\n",
      "Total reward for run  4600  :  -148.0\n",
      "Total reward for run  4700  :  -176.0\n",
      "Total reward for run  4800  :  -150.0\n",
      "Total reward for run  4900  :  -157.0\n",
      "Total reward for run  5000  :  -158.0\n"
     ]
    }
   ],
   "source": [
    "# Initialize model\n",
    "models = [SGDRegressor() for i in range(env.action_space.n)]\n",
    "for model in models:\n",
    "    model.partial_fit(transformed_observation,[0])\n",
    "\n",
    "# Run many epochs (\"learn to drive...\")\n",
    "rewards = []\n",
    "gamma = 0.99\n",
    "epsilon = 0.1\n",
    "for i in range(5000):\n",
    "    rewards.append(run(env, gamma, epsilon)) \n",
    "    if (i+1)%100 == 0:\n",
    "        print(\"Total reward for run \", i+1, \" : \", rewards[-1])\n"
   ]
  },
  {
   "cell_type": "code",
   "execution_count": 27,
   "metadata": {
    "scrolled": true
   },
   "outputs": [
    {
     "data": {
      "image/png": "[encoded data removed]",
      "text/plain": [
       "<Figure size 720x360 with 1 Axes>"
      ]
     },
     "metadata": {},
     "output_type": "display_data"
    }
   ],
   "source": [
    "import matplotlib.pyplot as plt\n",
    "\n",
    "rewards_array = np.array(rewards)\n",
    "avg_reward = []\n",
    "avg_over = 100\n",
    "for i in range(len(rewards)):\n",
    "    avg_reward.append(rewards_array[max(0, i - avg_over):(i +1)].mean())\n",
    "\n",
    "fig = plt.figure(figsize=(10, 5))\n",
    "#plt.plot(rewards)\n",
    "plt.plot(avg_reward)\n",
    "plt.title(\"Total rewards\")\n",
    "plt.show()"
   ]
  },
  {
   "cell_type": "markdown",
   "metadata": {},
   "source": [
    "### Learn to drive 4\n",
    "+ Decaying epsilon = 0.1 --> 0 \n",
    "+ One RBF (gamma = 2.0) --> 1000 features\n",
    "+ Include StandardScaler to scale observations"
   ]
  },
  {
   "cell_type": "code",
   "execution_count": 29,
   "metadata": {},
   "outputs": [
    {
     "name": "stderr",
     "output_type": "stream",
     "text": [
      "C:\\Users\\FlorianHuber\\Anaconda3\\lib\\site-packages\\sklearn\\linear_model\\stochastic_gradient.py:128: FutureWarning: max_iter and tol parameters have been added in <class 'sklearn.linear_model.stochastic_gradient.SGDRegressor'> in 0.19. If both are left unset, they default to max_iter=5 and tol=None. If tol is not None, max_iter defaults to max_iter=1000. From 0.21, default max_iter will be 1000, and default tol will be 1e-3.\n",
      "  \"and default tol will be 1e-3.\" % type(self), FutureWarning)\n"
     ]
    },
    {
     "name": "stdout",
     "output_type": "stream",
     "text": [
      "Total reward for run  100  :  -200.0\n",
      "Total reward for run  200  :  -200.0\n",
      "Total reward for run  300  :  -200.0\n",
      "Total reward for run  400  :  -200.0\n",
      "Total reward for run  500  :  -200.0\n",
      "Total reward for run  600  :  -200.0\n",
      "Total reward for run  700  :  -200.0\n",
      "Total reward for run  800  :  -200.0\n",
      "Total reward for run  900  :  -200.0\n",
      "Total reward for run  1000  :  -200.0\n",
      "Total reward for run  1100  :  -200.0\n",
      "Total reward for run  1200  :  -200.0\n",
      "Total reward for run  1300  :  -200.0\n",
      "Total reward for run  1400  :  -176.0\n",
      "Total reward for run  1500  :  -200.0\n",
      "Total reward for run  1600  :  -200.0\n",
      "Total reward for run  1700  :  -200.0\n",
      "Total reward for run  1800  :  -180.0\n",
      "Total reward for run  1900  :  -200.0\n",
      "Total reward for run  2000  :  -200.0\n",
      "Total reward for run  2100  :  -200.0\n",
      "Total reward for run  2200  :  -157.0\n",
      "Total reward for run  2300  :  -162.0\n",
      "Total reward for run  2400  :  -200.0\n",
      "Total reward for run  2500  :  -200.0\n",
      "Total reward for run  2600  :  -160.0\n",
      "Total reward for run  2700  :  -150.0\n",
      "Total reward for run  2800  :  -155.0\n",
      "Total reward for run  2900  :  -151.0\n",
      "Total reward for run  3000  :  -200.0\n",
      "Total reward for run  3100  :  -159.0\n",
      "Total reward for run  3200  :  -161.0\n",
      "Total reward for run  3300  :  -186.0\n",
      "Total reward for run  3400  :  -200.0\n",
      "Total reward for run  3500  :  -146.0\n",
      "Total reward for run  3600  :  -200.0\n",
      "Total reward for run  3700  :  -159.0\n",
      "Total reward for run  3800  :  -146.0\n",
      "Total reward for run  3900  :  -157.0\n",
      "Total reward for run  4000  :  -148.0\n",
      "Total reward for run  4100  :  -155.0\n",
      "Total reward for run  4200  :  -158.0\n",
      "Total reward for run  4300  :  -144.0\n",
      "Total reward for run  4400  :  -143.0\n",
      "Total reward for run  4500  :  -162.0\n",
      "Total reward for run  4600  :  -167.0\n",
      "Total reward for run  4700  :  -156.0\n",
      "Total reward for run  4800  :  -164.0\n",
      "Total reward for run  4900  :  -157.0\n",
      "Total reward for run  5000  :  -150.0\n"
     ]
    }
   ],
   "source": [
    "# Initialize model\n",
    "models = [SGDRegressor() for i in range(env.action_space.n)]\n",
    "for model in models:\n",
    "    model.partial_fit(transformed_observation,[0])\n",
    "\n",
    "# Run many epochs (\"learn to drive...\")\n",
    "rewards = []\n",
    "gamma = 0.99\n",
    "eps_initial = 0.1\n",
    "eps_decay = 0.001\n",
    "for i in range(5000):\n",
    "    epsilon = eps_initial * np.exp(-eps_decay * i)\n",
    "    rewards.append(run(env, gamma, epsilon)) \n",
    "    if (i+1)%100 == 0:\n",
    "        print(\"Total reward for run \", i+1, \" : \", rewards[-1])\n"
   ]
  },
  {
   "cell_type": "code",
   "execution_count": null,
   "metadata": {},
   "outputs": [
    {
     "name": "stderr",
     "output_type": "stream",
     "text": [
      "C:\\Users\\FlorianHuber\\Anaconda3\\lib\\site-packages\\sklearn\\linear_model\\stochastic_gradient.py:128: FutureWarning: max_iter and tol parameters have been added in <class 'sklearn.linear_model.stochastic_gradient.SGDRegressor'> in 0.19. If both are left unset, they default to max_iter=5 and tol=None. If tol is not None, max_iter defaults to max_iter=1000. From 0.21, default max_iter will be 1000, and default tol will be 1e-3.\n",
      "  \"and default tol will be 1e-3.\" % type(self), FutureWarning)\n"
     ]
    },
    {
     "name": "stdout",
     "output_type": "stream",
     "text": [
      "Total reward for run  5200  :  -150.0\n",
      "Total reward for run  5400  :  -94.0\n",
      "Total reward for run  5600  :  -155.0\n",
      "Total reward for run  5800  :  -95.0\n",
      "Total reward for run  6000  :  -175.0\n",
      "Total reward for run  6200  :  -90.0\n",
      "Total reward for run  6400  :  -88.0\n",
      "Total reward for run  6600  :  -151.0\n",
      "Total reward for run  6800  :  -88.0\n",
      "Total reward for run  7000  :  -150.0\n",
      "Total reward for run  7200  :  -159.0\n",
      "Total reward for run  7400  :  -91.0\n",
      "Total reward for run  7600  :  -152.0\n",
      "Total reward for run  7800  :  -157.0\n"
     ]
    }
   ],
   "source": [
    "# Train a bit longer\n",
    "for i in range(5000, 8000):\n",
    "    epsilon = eps_initial * np.exp(-eps_decay * i)\n",
    "    rewards.append(run(env, gamma, epsilon)) \n",
    "    if (i+1)%200 == 0:\n",
    "        print(\"Total reward for run \", i+1, \" : \", rewards[-1])"
   ]
  },
  {
   "cell_type": "code",
   "execution_count": 30,
   "metadata": {
    "scrolled": false
   },
   "outputs": [
    {
     "data": {
      "image/png": "[encoded data removed]",
      "text/plain": [
       "<Figure size 720x360 with 1 Axes>"
      ]
     },
     "metadata": {},
     "output_type": "display_data"
    }
   ],
   "source": [
    "import matplotlib.pyplot as plt\n",
    "\n",
    "rewards_array = np.array(rewards)\n",
    "avg_reward = []\n",
    "avg_over = 100\n",
    "for i in range(len(rewards)):\n",
    "    avg_reward.append(rewards_array[max(0, i - avg_over):(i +1)].mean())\n",
    "\n",
    "fig = plt.figure(figsize=(10, 5))\n",
    "#plt.plot(rewards)\n",
    "plt.plot(avg_reward)\n",
    "plt.title(\"Total rewards\")\n",
    "plt.show()"
   ]
  },
  {
   "cell_type": "markdown",
   "metadata": {},
   "source": [
    "### Learn to drive 5\n",
    "+ epsilon = 0 !\n",
    "+ One RBF (gamma = 2.0) --> 1000 features\n",
    "+ Include StandardScaler to scale observations"
   ]
  },
  {
   "cell_type": "code",
   "execution_count": null,
   "metadata": {},
   "outputs": [
    {
     "name": "stderr",
     "output_type": "stream",
     "text": [
      "C:\\Users\\FlorianHuber\\Anaconda3\\lib\\site-packages\\sklearn\\linear_model\\stochastic_gradient.py:128: FutureWarning: max_iter and tol parameters have been added in <class 'sklearn.linear_model.stochastic_gradient.SGDRegressor'> in 0.19. If both are left unset, they default to max_iter=5 and tol=None. If tol is not None, max_iter defaults to max_iter=1000. From 0.21, default max_iter will be 1000, and default tol will be 1e-3.\n",
      "  \"and default tol will be 1e-3.\" % type(self), FutureWarning)\n"
     ]
    },
    {
     "name": "stdout",
     "output_type": "stream",
     "text": [
      "Total reward for run  100  :  -200.0\n",
      "Total reward for run  200  :  -200.0\n",
      "Total reward for run  300  :  -200.0\n",
      "Total reward for run  400  :  -200.0\n",
      "Total reward for run  500  :  -200.0\n",
      "Total reward for run  600  :  -200.0\n",
      "Total reward for run  700  :  -200.0\n",
      "Total reward for run  800  :  -200.0\n",
      "Total reward for run  900  :  -200.0\n",
      "Total reward for run  1000  :  -200.0\n",
      "Total reward for run  1100  :  -200.0\n",
      "Total reward for run  1200  :  -200.0\n",
      "Total reward for run  1300  :  -200.0\n",
      "Total reward for run  1400  :  -176.0\n",
      "Total reward for run  1500  :  -200.0\n",
      "Total reward for run  1600  :  -200.0\n",
      "Total reward for run  1700  :  -200.0\n",
      "Total reward for run  1800  :  -180.0\n"
     ]
    }
   ],
   "source": [
    "# Initialize model\n",
    "models = [SGDRegressor() for i in range(env.action_space.n)]\n",
    "for model in models:\n",
    "    model.partial_fit(transformed_observation,[0])\n",
    "\n",
    "# Run many epochs (\"learn to drive...\")\n",
    "rewards = []\n",
    "gamma = 0.99\n",
    "epsilon = 0\n",
    "for i in range(5000):\n",
    "    rewards.append(run(env, gamma, epsilon)) \n",
    "    if (i+1)%100 == 0:\n",
    "        print(\"Total reward for run \", i+1, \" : \", rewards[-1])\n"
   ]
  },
  {
   "cell_type": "code",
   "execution_count": 27,
   "metadata": {
    "scrolled": true
   },
   "outputs": [
    {
     "data": {
      "image/png": "[encoded data removed]",
      "text/plain": [
       "<Figure size 720x360 with 1 Axes>"
      ]
     },
     "metadata": {},
     "output_type": "display_data"
    }
   ],
   "source": [
    "import matplotlib.pyplot as plt\n",
    "\n",
    "rewards_array = np.array(rewards)\n",
    "avg_reward = []\n",
    "avg_over = 100\n",
    "for i in range(len(rewards)):\n",
    "    avg_reward.append(rewards_array[max(0, i - avg_over):(i +1)].mean())\n",
    "\n",
    "fig = plt.figure(figsize=(10, 5))\n",
    "#plt.plot(rewards)\n",
    "plt.plot(avg_reward)\n",
    "plt.title(\"Total rewards\")\n",
    "plt.show()"
   ]
  },
  {
   "cell_type": "code",
   "execution_count": 305,
   "metadata": {},
   "outputs": [
    {
     "data": {
      "image/png": "[encoded data removed]",
      "text/plain": [
       "<Figure size 720x360 with 1 Axes>"
      ]
     },
     "metadata": {},
     "output_type": "display_data"
    }
   ],
   "source": [
    "import matplotlib.pyplot as plt\n",
    "\n",
    "rewards_array = np.array(rewards)\n",
    "avg_reward = []\n",
    "avg_over = 100\n",
    "for i in range(len(rewards)):\n",
    "    avg_reward.append(rewards_array[max(0, i - avg_over):(i +1)].mean())\n",
    "\n",
    "fig = plt.figure(figsize=(10, 5))\n",
    "#plt.plot(rewards)\n",
    "plt.plot(avg_reward)\n",
    "plt.title(\"Total rewards\")\n",
    "plt.show()"
   ]
  },
  {
   "cell_type": "markdown",
   "metadata": {},
   "source": [
    "### -- end --\n",
    "### Initial playing around with the SGDRegressor..."
   ]
  },
  {
   "cell_type": "code",
   "execution_count": 1,
   "metadata": {},
   "outputs": [
    {
     "name": "stderr",
     "output_type": "stream",
     "text": [
      "C:\\Users\\FlorianHuber\\Anaconda3\\lib\\site-packages\\sklearn\\linear_model\\stochastic_gradient.py:128: FutureWarning: max_iter and tol parameters have been added in <class 'sklearn.linear_model.stochastic_gradient.SGDRegressor'> in 0.19. If both are left unset, they default to max_iter=5 and tol=None. If tol is not None, max_iter defaults to max_iter=1000. From 0.21, default max_iter will be 1000, and default tol will be 1e-3.\n",
      "  \"and default tol will be 1e-3.\" % type(self), FutureWarning)\n"
     ]
    },
    {
     "data": {
      "text/plain": [
       "array([0.])"
      ]
     },
     "execution_count": 1,
     "metadata": {},
     "output_type": "execute_result"
    }
   ],
   "source": [
    "from sklearn.linear_model import SGDRegressor\n",
    "model = SGDRegressor()\n",
    "model.partial_fit([[0,0]], [0])\n",
    "model.predict([[0, 0]])"
   ]
  },
  {
   "cell_type": "code",
   "execution_count": 2,
   "metadata": {},
   "outputs": [
    {
     "data": {
      "text/plain": [
       "array([0.])"
      ]
     },
     "execution_count": 2,
     "metadata": {},
     "output_type": "execute_result"
    }
   ],
   "source": [
    "model.predict([[0, 1]])"
   ]
  },
  {
   "cell_type": "code",
   "execution_count": 3,
   "metadata": {
    "scrolled": true
   },
   "outputs": [
    {
     "name": "stderr",
     "output_type": "stream",
     "text": [
      "C:\\Users\\FlorianHuber\\Anaconda3\\lib\\site-packages\\sklearn\\linear_model\\stochastic_gradient.py:128: FutureWarning: max_iter and tol parameters have been added in <class 'sklearn.linear_model.stochastic_gradient.SGDRegressor'> in 0.19. If both are left unset, they default to max_iter=5 and tol=None. If tol is not None, max_iter defaults to max_iter=1000. From 0.21, default max_iter will be 1000, and default tol will be 1e-3.\n",
      "  \"and default tol will be 1e-3.\" % type(self), FutureWarning)\n"
     ]
    },
    {
     "data": {
      "text/plain": [
       "SGDRegressor(alpha=0.0001, average=False, epsilon=0.1, eta0=0.01,\n",
       "       fit_intercept=True, l1_ratio=0.15, learning_rate='invscaling',\n",
       "       loss='squared_loss', max_iter=None, n_iter=None, penalty='l2',\n",
       "       power_t=0.25, random_state=None, shuffle=True, tol=None, verbose=0,\n",
       "       warm_start=False)"
      ]
     },
     "execution_count": 3,
     "metadata": {},
     "output_type": "execute_result"
    }
   ],
   "source": [
    "model.partial_fit([[1,0]],[1])"
   ]
  },
  {
   "cell_type": "code",
   "execution_count": 308,
   "metadata": {},
   "outputs": [
    {
     "name": "stderr",
     "output_type": "stream",
     "text": [
      "C:\\Users\\FlorianHuber\\Anaconda3\\lib\\site-packages\\sklearn\\linear_model\\stochastic_gradient.py:128: FutureWarning: max_iter and tol parameters have been added in <class 'sklearn.linear_model.stochastic_gradient.SGDRegressor'> in 0.19. If both are left unset, they default to max_iter=5 and tol=None. If tol is not None, max_iter defaults to max_iter=1000. From 0.21, default max_iter will be 1000, and default tol will be 1e-3.\n",
      "  \"and default tol will be 1e-3.\" % type(self), FutureWarning)\n"
     ]
    },
    {
     "data": {
      "text/plain": [
       "-86.0"
      ]
     },
     "execution_count": 308,
     "metadata": {},
     "output_type": "execute_result"
    }
   ],
   "source": [
    "# display one run\n",
    "run(env, 0.99, 0.0, render = True)"
   ]
  },
  {
   "cell_type": "code",
   "execution_count": 243,
   "metadata": {},
   "outputs": [
    {
     "name": "stdout",
     "output_type": "stream",
     "text": [
      "[-5.26719647e-01 -2.67912820e-04] -1.0\n",
      "[-0.04068231 -0.0632352   0.04236201 -0.0618868   0.00198771  0.06286966\n",
      " -0.01759054  0.00916721 -0.06232915  0.04857261  0.05658071 -0.04175123\n",
      "  0.01565441 -0.01904836  0.06323999  0.00160379  0.04682458  0.06302005\n",
      "  0.02869552  0.0604617 ]\n"
     ]
    }
   ],
   "source": [
    "action = 1\n",
    "next_observation, reward, done, info = env.step(action)\n",
    "print(next_observation, reward)\n",
    "print(transformer.transform([next_observation])[0][:20])"
   ]
  },
  {
   "cell_type": "code",
   "execution_count": 244,
   "metadata": {},
   "outputs": [
    {
     "data": {
      "text/plain": [
       "array([[-0.4250226,  0.00044  ]])"
      ]
     },
     "execution_count": 244,
     "metadata": {},
     "output_type": "execute_result"
    }
   ],
   "source": [
    "scaler.transform([next_observation])"
   ]
  },
  {
   "cell_type": "code",
   "execution_count": 245,
   "metadata": {},
   "outputs": [
    {
     "name": "stdout",
     "output_type": "stream",
     "text": [
      "2\n",
      "[array([-43.05265893]), array([-43.03955614]), array([-43.0311854])]\n"
     ]
    }
   ],
   "source": [
    "predictions = [m.predict(transformer.transform([next_observation])) for m in models]\n",
    "print(np.argmax(np.stack(predictions).T))\n",
    "print([m.predict(transformer.transform([next_observation])) for m in models])"
   ]
  },
  {
   "cell_type": "code",
   "execution_count": 21,
   "metadata": {},
   "outputs": [],
   "source": [
    "next_transformed_observation = transformer.transform([next_observation])\n",
    "next_predictions = [m.predict(next_transformed_observation) for m in models]"
   ]
  },
  {
   "cell_type": "code",
   "execution_count": 22,
   "metadata": {},
   "outputs": [
    {
     "data": {
      "text/plain": [
       "[array([0.]), array([0.]), array([0.])]"
      ]
     },
     "execution_count": 22,
     "metadata": {},
     "output_type": "execute_result"
    }
   ],
   "source": [
    "next_predictions"
   ]
  },
  {
   "cell_type": "code",
   "execution_count": 215,
   "metadata": {},
   "outputs": [
    {
     "data": {
      "text/plain": [
       "StandardScaler(copy=True, with_mean=True, with_std=True)"
      ]
     },
     "execution_count": 215,
     "metadata": {},
     "output_type": "execute_result"
    }
   ],
   "source": [
    "from sklearn.preprocessing import StandardScaler\n",
    "scaler = StandardScaler()\n",
    "observation_sample = np.vstack([env.observation_space.sample() for i in range(10000)])\n",
    "scaler.fit(observation_sample)"
   ]
  },
  {
   "cell_type": "code",
   "execution_count": 222,
   "metadata": {},
   "outputs": [],
   "source": [
    "next_observation_scaled = scaler.transform([next_observation])"
   ]
  },
  {
   "cell_type": "code",
   "execution_count": 225,
   "metadata": {},
   "outputs": [
    {
     "name": "stdout",
     "output_type": "stream",
     "text": [
      "[[-0.5064451  -0.08041898]] [-0.56120488 -0.0028085 ]\n"
     ]
    }
   ],
   "source": [
    "print(next_observation_scaled, next_observation)"
   ]
  }
 ],
 "metadata": {
  "kernelspec": {
   "display_name": "Python 3",
   "language": "python",
   "name": "python3"
  },
  "language_info": {
   "codemirror_mode": {
    "name": "ipython",
    "version": 3
   },
   "file_extension": ".py",
   "mimetype": "text/x-python",
   "name": "python",
   "nbconvert_exporter": "python",
   "pygments_lexer": "ipython3",
   "version": "3.6.5"
  }
 },
 "nbformat": 4,
 "nbformat_minor": 2
}
