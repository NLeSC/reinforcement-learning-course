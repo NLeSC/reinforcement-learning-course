{
 "cells": [
  {
   "cell_type": "code",
   "execution_count": 1,
   "metadata": {},
   "outputs": [],
   "source": [
    "import numpy as np\n",
    "import gym\n",
    "from sklearn.linear_model import SGDRegressor\n",
    "from sklearn.preprocessing import StandardScaler\n",
    "from sklearn.pipeline import FeatureUnion\n",
    "from sklearn.kernel_approximation import RBFSampler\n",
    "\n",
    "env = gym.make('MountainCar-v0')\n",
    "\n",
    "def get_transformer():\n",
    "    #sampler = RBFSampler(gamma=2.0, n_components=1000, random_state=1234)\n",
    "    n_components=500\n",
    "    sampler = FeatureUnion([\n",
    "            (\"rbf1\", RBFSampler(gamma=5.0, n_components=n_components)),\n",
    "            (\"rbf2\", RBFSampler(gamma=2.0, n_components=n_components)),\n",
    "            (\"rbf3\", RBFSampler(gamma=1.0, n_components=n_components)),\n",
    "            (\"rbf4\", RBFSampler(gamma=0.5, n_components=n_components))\n",
    "            ])\n",
    "    \n",
    "    #from the course solution: \n",
    "    scaler = StandardScaler()\n",
    "\n",
    "    observation_sample = np.vstack([env.observation_space.sample() for i in range(10000)])\n",
    "    scaler.fit(observation_sample)\n",
    "    return sampler.fit(scaler.transform(observation_sample)), scaler "
   ]
  },
  {
   "cell_type": "code",
   "execution_count": null,
   "metadata": {},
   "outputs": [],
   "source": [
    "def G(rewards, gamma, state_estimate):\n",
    "    result = 0\n",
    "    factor = 1\n",
    "    for reward in rewards:\n",
    "        result += factor *reward\n",
    "        factor *= gamma\n",
    "    result += factor*state_estimate\n",
    "    return result\n",
    "\n",
    "\n",
    "def decide_action(predictions, epsilon):\n",
    "    if np.random.random() < epsilon:\n",
    "        return env.action_space.sample()\n",
    "    else:\n",
    "        return np.argmax(np.stack(predictions).T)\n",
    "        \n",
    "        \n",
    "def run(env, gamma, epsilon, n_step = 5, render = False):\n",
    "    observation = env.reset()\n",
    "    # Transform observation (into higher dimensional feature space)\n",
    "    transformed_observation = transformer.transform(scaler.transform([observation]))\n",
    "    \n",
    "    done = False\n",
    "    action = None\n",
    "    total_reward = 0\n",
    "    \n",
    "    history = []  #state, reward, is_done, info\n",
    "    states = []\n",
    "    actions = []\n",
    "    \n",
    "    while(done == False):        \n",
    "\n",
    "        # Make prediction\n",
    "        predictions = [m.predict(transformed_observation) for m in models]\n",
    "        # Choose action & do step\n",
    "        action = decide_action(predictions, epsilon)\n",
    "        next_observation, reward, done, info = env.step(action)\n",
    "        next_transformed_observation = transformer.transform(scaler.transform([next_observation]))\n",
    "        \n",
    "        history.append(reward)\n",
    "        states.append(observation)\n",
    "        actions.append(action)\n",
    "        \n",
    "        rewards = [x for x in history[::-1]][:n_step]\n",
    "        # Make prediction and calculate value\n",
    "        next_predictions = [m.predict(next_transformed_observation) for m in models]\n",
    "        #new_value = reward + gamma * max(next_predictions)\n",
    "        new_value = G(rewards, gamma, np.max(next_predictions))\n",
    "        \n",
    "        # Update models\n",
    "        #models[action].partial_fit(transformed_observation, [new_value[0]])\n",
    "        n = min(n_step, len(rewards))\n",
    "        models[actions[-n]].partial_fit(transformer.transform(scaler.transform([states[-n]]), [new_value])\n",
    "        #models[action].partial_fit(transformed_observation, [new_value])\n",
    "        \n",
    "        # Update observation:\n",
    "        observation = next_observation\n",
    "        transformed_observation = next_transformed_observation\n",
    "        \n",
    "        if(render):\n",
    "            env.render()\n",
    "        total_reward += reward\n",
    "        \n",
    "    if render:\n",
    "        env.close()\n",
    "    return total_reward "
   ]
  },
  {
   "cell_type": "code",
   "execution_count": 14,
   "metadata": {},
   "outputs": [
    {
     "name": "stdout",
     "output_type": "stream",
     "text": [
      "transformed_observation.shape (1, 2000)\n"
     ]
    }
   ],
   "source": [
    "observation = env.reset()\n",
    "transformer, scaler = get_transformer()\n",
    "transformed_observation = transformer.transform([observation])\n",
    "print('transformed_observation.shape',transformed_observation.shape)"
   ]
  },
  {
   "cell_type": "code",
   "execution_count": null,
   "metadata": {},
   "outputs": [
    {
     "name": "stderr",
     "output_type": "stream",
     "text": [
      "C:\\Users\\FlorianHuber\\Anaconda3\\lib\\site-packages\\sklearn\\linear_model\\stochastic_gradient.py:128: FutureWarning: max_iter and tol parameters have been added in <class 'sklearn.linear_model.stochastic_gradient.SGDRegressor'> in 0.19. If both are left unset, they default to max_iter=5 and tol=None. If tol is not None, max_iter defaults to max_iter=1000. From 0.21, default max_iter will be 1000, and default tol will be 1e-3.\n",
      "  \"and default tol will be 1e-3.\" % type(self), FutureWarning)\n"
     ]
    },
    {
     "name": "stdout",
     "output_type": "stream",
     "text": [
      "Total reward for run  200  :  -200.0\n",
      "Total reward for run  400  :  -200.0\n",
      "Total reward for run  600  :  -200.0\n",
      "Total reward for run  800  :  -200.0\n",
      "Total reward for run  1000  :  -157.0\n"
     ]
    }
   ],
   "source": [
    "# Initialize model\n",
    "models = [SGDRegressor() for i in range(env.action_space.n)]\n",
    "for model in models:\n",
    "    model.partial_fit(transformed_observation,[0])\n",
    "\n",
    "# Run many epochs (\"learn to drive...\")\n",
    "total_rewards = []\n",
    "gamma = 0.99\n",
    "eps_initial = 0.1\n",
    "eps_decay = 0.001\n",
    "\n",
    "n_step = 5\n",
    "\n",
    "for i in range(2000):\n",
    "    epsilon = eps_initial * np.exp(-eps_decay * i)\n",
    "    total_rewards.append(run(env, gamma, epsilon, n_step = n_step)) \n",
    "    if (i+1)%200 == 0:\n",
    "        print(\"Total reward for run \", i+1, \" : \", total_rewards[-1])\n"
   ]
  },
  {
   "cell_type": "code",
   "execution_count": 10,
   "metadata": {},
   "outputs": [
    {
     "data": {
      "text/plain": [
       "Text(0.5,1,'Total rewards')"
      ]
     },
     "execution_count": 10,
     "metadata": {},
     "output_type": "execute_result"
    },
    {
     "data": {
      "image/png": "[encoded data removed]",
      "text/plain": [
       "<Figure size 720x360 with 1 Axes>"
      ]
     },
     "metadata": {
      "needs_background": "light"
     },
     "output_type": "display_data"
    }
   ],
   "source": [
    "import matplotlib.pyplot as plt\n",
    "\n",
    "rewards_array = np.array(total_rewards)\n",
    "avg_reward = []\n",
    "avg_over = 100\n",
    "for i in range(len(rewards)):\n",
    "    avg_reward.append(rewards_array[max(0, i - avg_over):(i +1)].mean())\n",
    "\n",
    "fig = plt.figure(figsize=(10, 5))\n",
    "#plt.plot(rewards)\n",
    "plt.plot(avg_reward)\n",
    "plt.title(\"Total rewards\")"
   ]
  }
 ],
 "metadata": {
  "kernelspec": {
   "display_name": "Python 3",
   "language": "python",
   "name": "python3"
  },
  "language_info": {
   "codemirror_mode": {
    "name": "ipython",
    "version": 3
   },
   "file_extension": ".py",
   "mimetype": "text/x-python",
   "name": "python",
   "nbconvert_exporter": "python",
   "pygments_lexer": "ipython3",
   "version": "3.6.5"
  }
 },
 "nbformat": 4,
 "nbformat_minor": 2
}
