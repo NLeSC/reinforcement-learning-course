{
 "cells": [
  {
   "cell_type": "code",
   "execution_count": 1,
   "metadata": {},
   "outputs": [],
   "source": [
    "import gym\n",
    "import numpy as np"
   ]
  },
  {
   "cell_type": "markdown",
   "metadata": {},
   "source": [
    "### Search for best weights using random guesses..."
   ]
  },
  {
   "cell_type": "code",
   "execution_count": 4,
   "metadata": {},
   "outputs": [],
   "source": [
    "env = gym.make('CartPole-v0')"
   ]
  },
  {
   "cell_type": "code",
   "execution_count": 5,
   "metadata": {},
   "outputs": [],
   "source": [
    "def random_weight_sampling(epochs, num_iter, max_run_steps):\n",
    "    # initialize collection & weights\n",
    "    avg_run_length = 0\n",
    "    avg_run_length_collection = []\n",
    "    best_weights = np.zeros((4))\n",
    "    \n",
    "    # Run epochs\n",
    "    for epoch in range(epochs):\n",
    "        # Random weight guess\n",
    "        weights = np.random.random(4)\n",
    "        \n",
    "        # Test weights over num_iter runs\n",
    "        run_lengths = []\n",
    "        for i in range(num_iter):\n",
    "            observation = env.reset()\n",
    "            counter = 0\n",
    "            done = False\n",
    "            while not done and counter < max_run_steps:\n",
    "                # env.render()\n",
    "                action = int(np.dot(observation, weights) > 0)  # chose action 0 or 1\n",
    "                observation, reward, done, _ = env.step(action)\n",
    "                counter += 1\n",
    "            \n",
    "            run_lengths.append(counter)\n",
    "            \n",
    "        avg_run_length_collection.append(np.mean(run_lengths))  \n",
    "        \n",
    "        # Check if run length was better than best run so far\n",
    "        if np.mean(run_lengths) > avg_run_length:\n",
    "            avg_run_length = np.mean(run_lengths)\n",
    "            best_weights = weights\n",
    "            print(\"Epoch \", epoch, \" --- update weights! Avg. run length was: \", np.mean(run_lengths))\n",
    "        else:\n",
    "            print(\"Epoch \", epoch, \". Avg. run length was: \", np.mean(run_lengths))\n",
    "\n",
    "    return avg_run_length_collection, best_weights"
   ]
  },
  {
   "cell_type": "code",
   "execution_count": 6,
   "metadata": {},
   "outputs": [
    {
     "name": "stdout",
     "output_type": "stream",
     "text": [
      "Epoch  0  --- update weights! Avg. run length was:  200.0\n",
      "Epoch  1 . Avg. run length was:  200.0\n",
      "Epoch  2 . Avg. run length was:  78.76\n",
      "Epoch  3 . Avg. run length was:  9.56\n",
      "Epoch  4 . Avg. run length was:  9.36\n",
      "Epoch  5 . Avg. run length was:  9.41\n",
      "Epoch  6 . Avg. run length was:  112.03\n",
      "Epoch  7 . Avg. run length was:  79.34\n",
      "Epoch  8 . Avg. run length was:  10.11\n",
      "Epoch  9 . Avg. run length was:  121.58\n",
      "Epoch  10 . Avg. run length was:  9.81\n",
      "Epoch  11 . Avg. run length was:  9.48\n",
      "Epoch  12 . Avg. run length was:  191.37\n",
      "Epoch  13 . Avg. run length was:  153.86\n",
      "Epoch  14 . Avg. run length was:  9.46\n",
      "Epoch  15 . Avg. run length was:  185.55\n",
      "Epoch  16 . Avg. run length was:  200.0\n",
      "Epoch  17 . Avg. run length was:  28.29\n",
      "Epoch  18 . Avg. run length was:  13.57\n",
      "Epoch  19 . Avg. run length was:  200.0\n",
      "Epoch  20 . Avg. run length was:  199.62\n",
      "Epoch  21 . Avg. run length was:  9.6\n",
      "Epoch  22 . Avg. run length was:  154.18\n",
      "Epoch  23 . Avg. run length was:  9.46\n",
      "Epoch  24 . Avg. run length was:  84.33\n",
      "Epoch  25 . Avg. run length was:  200.0\n",
      "Epoch  26 . Avg. run length was:  126.06\n",
      "Epoch  27 . Avg. run length was:  138.33\n",
      "Epoch  28 . Avg. run length was:  9.43\n",
      "Epoch  29 . Avg. run length was:  31.77\n",
      "Epoch  30 . Avg. run length was:  99.88\n",
      "Epoch  31 . Avg. run length was:  9.68\n",
      "Epoch  32 . Avg. run length was:  9.34\n",
      "Epoch  33 . Avg. run length was:  9.85\n",
      "Epoch  34 . Avg. run length was:  152.12\n",
      "Epoch  35 . Avg. run length was:  9.66\n",
      "Epoch  36 . Avg. run length was:  200.0\n",
      "Epoch  37 . Avg. run length was:  9.62\n",
      "Epoch  38 . Avg. run length was:  9.72\n",
      "Epoch  39 . Avg. run length was:  104.89\n",
      "Epoch  40 . Avg. run length was:  200.0\n",
      "Epoch  41 . Avg. run length was:  9.66\n",
      "Epoch  42 . Avg. run length was:  86.38\n",
      "Epoch  43 . Avg. run length was:  123.82\n",
      "Epoch  44 . Avg. run length was:  9.94\n",
      "Epoch  45 . Avg. run length was:  200.0\n",
      "Epoch  46 . Avg. run length was:  99.58\n",
      "Epoch  47 . Avg. run length was:  9.49\n",
      "Epoch  48 . Avg. run length was:  112.75\n",
      "Epoch  49 . Avg. run length was:  9.47\n",
      "Epoch  50 . Avg. run length was:  199.68\n",
      "Epoch  51 . Avg. run length was:  59.43\n",
      "Epoch  52 . Avg. run length was:  9.89\n",
      "Epoch  53 . Avg. run length was:  65.08\n",
      "Epoch  54 . Avg. run length was:  200.0\n",
      "Epoch  55 . Avg. run length was:  9.39\n",
      "Epoch  56 . Avg. run length was:  9.71\n",
      "Epoch  57 . Avg. run length was:  200.0\n",
      "Epoch  58 . Avg. run length was:  9.44\n",
      "Epoch  59 . Avg. run length was:  9.61\n",
      "Epoch  60 . Avg. run length was:  200.0\n",
      "Epoch  61 . Avg. run length was:  200.0\n",
      "Epoch  62 . Avg. run length was:  115.32\n",
      "Epoch  63 . Avg. run length was:  9.59\n",
      "Epoch  64 . Avg. run length was:  22.62\n",
      "Epoch  65 . Avg. run length was:  200.0\n",
      "Epoch  66 . Avg. run length was:  143.49\n",
      "Epoch  67 . Avg. run length was:  73.39\n",
      "Epoch  68 . Avg. run length was:  9.71\n",
      "Epoch  69 . Avg. run length was:  200.0\n",
      "Epoch  70 . Avg. run length was:  115.9\n",
      "Epoch  71 . Avg. run length was:  192.95\n",
      "Epoch  72 . Avg. run length was:  200.0\n",
      "Epoch  73 . Avg. run length was:  199.53\n",
      "Epoch  74 . Avg. run length was:  127.66\n",
      "Epoch  75 . Avg. run length was:  9.62\n",
      "Epoch  76 . Avg. run length was:  17.84\n",
      "Epoch  77 . Avg. run length was:  9.44\n",
      "Epoch  78 . Avg. run length was:  9.42\n",
      "Epoch  79 . Avg. run length was:  9.39\n",
      "Epoch  80 . Avg. run length was:  25.97\n",
      "Epoch  81 . Avg. run length was:  200.0\n",
      "Epoch  82 . Avg. run length was:  18.98\n",
      "Epoch  83 . Avg. run length was:  9.4\n",
      "Epoch  84 . Avg. run length was:  9.59\n",
      "Epoch  85 . Avg. run length was:  200.0\n",
      "Epoch  86 . Avg. run length was:  9.74\n",
      "Epoch  87 . Avg. run length was:  60.03\n",
      "Epoch  88 . Avg. run length was:  77.69\n",
      "Epoch  89 . Avg. run length was:  9.59\n",
      "Epoch  90 . Avg. run length was:  9.76\n",
      "Epoch  91 . Avg. run length was:  9.55\n",
      "Epoch  92 . Avg. run length was:  200.0\n",
      "Epoch  93 . Avg. run length was:  98.12\n",
      "Epoch  94 . Avg. run length was:  9.4\n",
      "Epoch  95 . Avg. run length was:  10.21\n",
      "Epoch  96 . Avg. run length was:  9.6\n",
      "Epoch  97 . Avg. run length was:  21.98\n",
      "Epoch  98 . Avg. run length was:  9.66\n",
      "Epoch  99 . Avg. run length was:  18.84\n"
     ]
    }
   ],
   "source": [
    "collection, best_weights = random_weight_sampling(100, 100, 1000)"
   ]
  },
  {
   "cell_type": "code",
   "execution_count": 7,
   "metadata": {},
   "outputs": [
    {
     "name": "stdout",
     "output_type": "stream",
     "text": [
      "[0.14643312 0.44598841 0.85764216 0.58532553]\n"
     ]
    }
   ],
   "source": [
    "print(best_weights)"
   ]
  },
  {
   "cell_type": "code",
   "execution_count": 8,
   "metadata": {},
   "outputs": [],
   "source": [
    "import matplotlib.pyplot as plt\n",
    "from IPython import display\n",
    "%matplotlib inline\n",
    "\n",
    "env = gym.make('CartPole-v0')\n"
   ]
  },
  {
   "cell_type": "code",
   "execution_count": 9,
   "metadata": {},
   "outputs": [],
   "source": [
    "def single_run(weights, max_run_steps):\n",
    "\n",
    "    observation = env.reset()\n",
    "    counter = 0\n",
    "    done = False\n",
    "    while not done and counter < max_run_steps:\n",
    "        #env.render()\n",
    "        plt.imshow(env.render(mode='rgb_array'))\n",
    "        display.display(plt.gcf())    \n",
    "        display.clear_output(wait=True)\n",
    "        action = int(np.dot(observation, weights) > 0)  # chose action 0 or 1\n",
    "        observation, reward, done, _ = env.step(action)\n",
    "        counter += 1\n",
    "    env.close()"
   ]
  },
  {
   "cell_type": "code",
   "execution_count": 10,
   "metadata": {},
   "outputs": [
    {
     "data": {
      "image/png": "[encoded data removed]",
      "text/plain": [
       "<Figure size 432x288 with 1 Axes>"
      ]
     },
     "metadata": {},
     "output_type": "display_data"
    }
   ],
   "source": [
    "single_run([0.2, 0.2, 0.2, 0.2], 50)"
   ]
  }
 ],
 "metadata": {
  "kernelspec": {
   "display_name": "Python 3",
   "language": "python",
   "name": "python3"
  },
  "language_info": {
   "codemirror_mode": {
    "name": "ipython",
    "version": 3
   },
   "file_extension": ".py",
   "mimetype": "text/x-python",
   "name": "python",
   "nbconvert_exporter": "python",
   "pygments_lexer": "ipython3",
   "version": "3.6.5"
  }
 },
 "nbformat": 4,
 "nbformat_minor": 2
}
