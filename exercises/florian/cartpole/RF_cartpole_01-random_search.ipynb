{
 "cells": [
  {
   "cell_type": "code",
   "execution_count": 1,
   "metadata": {},
   "outputs": [],
   "source": [
    "import gym\n",
    "import numpy as np"
   ]
  },
  {
   "cell_type": "markdown",
   "metadata": {},
   "source": [
    "### Search for best weights using random guesses..."
   ]
  },
  {
   "cell_type": "code",
   "execution_count": 2,
   "metadata": {},
   "outputs": [],
   "source": [
    "def random_weight_sampling(env, epochs, num_iter, max_run_steps):\n",
    "    # Initialize collection & weights\n",
    "    avg_run_length = 0\n",
    "    avg_run_length_collection = []\n",
    "    best_weights = np.zeros((4))\n",
    "    \n",
    "    # Run epochs\n",
    "    for epoch in range(epochs):\n",
    "        # Random weight guess\n",
    "        weights = np.random.random(4)\n",
    "        \n",
    "        # Test weights over num_iter runs\n",
    "        run_lengths = []\n",
    "        for i in range(num_iter):\n",
    "            counter = single_run(weights, env, max_run_steps)\n",
    "            run_lengths.append(counter)\n",
    "            \n",
    "        avg_run_length_collection.append(np.mean(run_lengths))  \n",
    "        \n",
    "        # Check if run length was better than best run so far\n",
    "        if np.mean(run_lengths) > avg_run_length:\n",
    "            avg_run_length = np.mean(run_lengths)\n",
    "            best_weights = weights\n",
    "            print(\"Epoch \", epoch, \" --- update weights! Avg. run length: \", np.mean(run_lengths))\n",
    "        else:\n",
    "            print(\"Epoch \", epoch, \" ||| avg. run length: \", np.mean(run_lengths))\n",
    "\n",
    "    return avg_run_length_collection, best_weights\n",
    "\n",
    "\n",
    "def single_run(weights, env, max_run_steps):\n",
    "    observation = env.reset()\n",
    "    counter = 0\n",
    "    done = False\n",
    "    while not done and counter < max_run_steps:\n",
    "        #env.render()\n",
    "        action = int(np.dot(observation, weights) > 0)  # chose action 0 or 1\n",
    "        observation, reward, done, _ = env.step(action)\n",
    "        counter += 1\n",
    "    \n",
    "    return counter"
   ]
  },
  {
   "cell_type": "code",
   "execution_count": 3,
   "metadata": {},
   "outputs": [
    {
     "name": "stdout",
     "output_type": "stream",
     "text": [
      "Epoch  0  --- update weights! Avg. run length:  65.1\n",
      "Epoch  1  ||| avg. run length:  9.57\n",
      "Epoch  2  ||| avg. run length:  9.93\n",
      "Epoch  3  ||| avg. run length:  53.22\n",
      "Epoch  4  --- update weights! Avg. run length:  196.66\n",
      "Epoch  5  ||| avg. run length:  153.65\n",
      "Epoch  6  --- update weights! Avg. run length:  200.0\n",
      "Epoch  7  ||| avg. run length:  144.91\n",
      "Epoch  8  ||| avg. run length:  69.63\n",
      "Epoch  9  ||| avg. run length:  126.53\n",
      "Epoch  10  ||| avg. run length:  9.49\n",
      "Epoch  11  ||| avg. run length:  200.0\n",
      "Epoch  12  ||| avg. run length:  200.0\n",
      "Epoch  13  ||| avg. run length:  9.57\n",
      "Epoch  14  ||| avg. run length:  9.77\n",
      "Epoch  15  ||| avg. run length:  73.18\n",
      "Epoch  16  ||| avg. run length:  9.7\n",
      "Epoch  17  ||| avg. run length:  200.0\n",
      "Epoch  18  ||| avg. run length:  78.09\n",
      "Epoch  19  ||| avg. run length:  102.11\n",
      "Epoch  20  ||| avg. run length:  9.84\n",
      "Epoch  21  ||| avg. run length:  142.23\n",
      "Epoch  22  ||| avg. run length:  9.67\n",
      "Epoch  23  ||| avg. run length:  123.53\n",
      "Epoch  24  ||| avg. run length:  20.31\n",
      "Epoch  25  ||| avg. run length:  9.54\n",
      "Epoch  26  ||| avg. run length:  200.0\n",
      "Epoch  27  ||| avg. run length:  143.42\n",
      "Epoch  28  ||| avg. run length:  9.74\n",
      "Epoch  29  ||| avg. run length:  200.0\n",
      "Epoch  30  ||| avg. run length:  200.0\n",
      "Epoch  31  ||| avg. run length:  139.72\n",
      "Epoch  32  ||| avg. run length:  50.68\n",
      "Epoch  33  ||| avg. run length:  200.0\n",
      "Epoch  34  ||| avg. run length:  167.2\n",
      "Epoch  35  ||| avg. run length:  9.68\n",
      "Epoch  36  ||| avg. run length:  200.0\n",
      "Epoch  37  ||| avg. run length:  9.51\n",
      "Epoch  38  ||| avg. run length:  200.0\n",
      "Epoch  39  ||| avg. run length:  9.77\n",
      "Epoch  40  ||| avg. run length:  9.68\n",
      "Epoch  41  ||| avg. run length:  175.31\n",
      "Epoch  42  ||| avg. run length:  9.61\n",
      "Epoch  43  ||| avg. run length:  200.0\n",
      "Epoch  44  ||| avg. run length:  121.59\n",
      "Epoch  45  ||| avg. run length:  155.19\n",
      "Epoch  46  ||| avg. run length:  9.6\n",
      "Epoch  47  ||| avg. run length:  9.44\n",
      "Epoch  48  ||| avg. run length:  9.62\n",
      "Epoch  49  ||| avg. run length:  200.0\n"
     ]
    }
   ],
   "source": [
    "env = gym.make('CartPole-v0')\n",
    "collection, best_weights = random_weight_sampling(env, 50, 100, 1000)"
   ]
  },
  {
   "cell_type": "code",
   "execution_count": 4,
   "metadata": {},
   "outputs": [
    {
     "name": "stdout",
     "output_type": "stream",
     "text": [
      "[0.05458722 0.61101914 0.75906667 0.73764839]\n"
     ]
    }
   ],
   "source": [
    "print(best_weights)"
   ]
  },
  {
   "cell_type": "markdown",
   "metadata": {},
   "source": [
    "### Make video"
   ]
  },
  {
   "cell_type": "code",
   "execution_count": 5,
   "metadata": {},
   "outputs": [],
   "source": [
    "from gym import wrappers\n",
    "env = gym.make('CartPole-v0')\n",
    "env_video = wrappers.Monitor(env, \"video_test\")\n",
    "count = single_run(best_weights, env_video, 100)"
   ]
  },
  {
   "cell_type": "markdown",
   "metadata": {},
   "source": [
    "... didn't work for me. Only got empty/unreadable mp4s."
   ]
  },
  {
   "cell_type": "code",
   "execution_count": 6,
   "metadata": {},
   "outputs": [],
   "source": [
    "env_video.close()"
   ]
  }
 ],
 "metadata": {
  "kernelspec": {
   "display_name": "Python 3",
   "language": "python",
   "name": "python3"
  },
  "language_info": {
   "codemirror_mode": {
    "name": "ipython",
    "version": 3
   },
   "file_extension": ".py",
   "mimetype": "text/x-python",
   "name": "python",
   "nbconvert_exporter": "python",
   "pygments_lexer": "ipython3",
   "version": "3.6.5"
  }
 },
 "nbformat": 4,
 "nbformat_minor": 2
}
